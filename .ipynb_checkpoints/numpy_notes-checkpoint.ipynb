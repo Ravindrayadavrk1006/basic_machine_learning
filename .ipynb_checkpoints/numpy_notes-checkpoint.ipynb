{
 "cells": [
  {
   "cell_type": "code",
   "execution_count": 1,
   "id": "98dd6145-f9ee-4802-9eb4-c98800436b76",
   "metadata": {},
   "outputs": [],
   "source": [
    "import numpy as np"
   ]
  },
  {
   "cell_type": "code",
   "execution_count": 2,
   "id": "550e13ce-9fcc-499d-80a6-80f173cd5890",
   "metadata": {},
   "outputs": [],
   "source": [
    "#normal python list\n",
    "py_list = [1,2,3,4]"
   ]
  },
  {
   "cell_type": "code",
   "execution_count": 3,
   "id": "50675e8e-2440-4ece-8936-2135e73d44f4",
   "metadata": {},
   "outputs": [],
   "source": [
    "#converting normal list to numpy array\n",
    "np_array = np.array(py_list)"
   ]
  },
  {
   "cell_type": "code",
   "execution_count": 6,
   "id": "d56abe30-8a68-4b8b-a03b-d30f2973d6b7",
   "metadata": {},
   "outputs": [
    {
     "data": {
      "text/plain": [
       "(numpy.ndarray, array([1, 2, 3, 4]))"
      ]
     },
     "execution_count": 6,
     "metadata": {},
     "output_type": "execute_result"
    }
   ],
   "source": [
    "type(np_array), np_array"
   ]
  },
  {
   "cell_type": "code",
   "execution_count": 14,
   "id": "1e48e518-3470-4351-969d-15cad20a28a4",
   "metadata": {},
   "outputs": [
    {
     "data": {
      "text/plain": [
       "(2, (3, 4))"
      ]
     },
     "execution_count": 14,
     "metadata": {},
     "output_type": "execute_result"
    }
   ],
   "source": [
    "data = np.array([\n",
    "    [1,2,3,4],\n",
    "    [2,3,4,5],\n",
    "    [4,5,6,7]\n",
    "])\n",
    "#no of dimensions it has, shape is a better way to see it\n",
    "data.ndim, data.shape"
   ]
  },
  {
   "cell_type": "code",
   "execution_count": 10,
   "id": "d93b3023-9870-407a-ac4f-6768bda24503",
   "metadata": {},
   "outputs": [
    {
     "data": {
      "text/plain": [
       "(1, 1)"
      ]
     },
     "execution_count": 10,
     "metadata": {},
     "output_type": "execute_result"
    }
   ],
   "source": [
    "# we can call in any of the two ways, printing the number of dimensions\n",
    "np_array.ndim , np.ndim(np_array)"
   ]
  },
  {
   "cell_type": "code",
   "execution_count": 6,
   "id": "53450224-cbb4-4942-9110-59f1a53cab67",
   "metadata": {},
   "outputs": [
    {
     "data": {
      "text/plain": [
       "(4,)"
      ]
     },
     "execution_count": 6,
     "metadata": {},
     "output_type": "execute_result"
    }
   ],
   "source": [
    "np_array.shape"
   ]
  },
  {
   "cell_type": "code",
   "execution_count": 15,
   "id": "b23b34c8-7b51-44fa-ae82-afdb4c55aff0",
   "metadata": {},
   "outputs": [
    {
     "data": {
      "text/plain": [
       "array([0, 1, 2, 3, 4, 5, 6, 7, 8, 9])"
      ]
     },
     "execution_count": 15,
     "metadata": {},
     "output_type": "execute_result"
    }
   ],
   "source": [
    "#create a array with range of values\n",
    "range_array = np.arange(0,10)   #including 0 but excluding 10\n",
    "range_array"
   ]
  },
  {
   "cell_type": "code",
   "execution_count": 16,
   "id": "403c0466-c740-41c9-a787-0f9be1b9d816",
   "metadata": {},
   "outputs": [
    {
     "data": {
      "text/plain": [
       "array([0, 2, 4, 6, 8])"
      ]
     },
     "execution_count": 16,
     "metadata": {},
     "output_type": "execute_result"
    }
   ],
   "source": [
    "range_even_array = np.arange(0,10,2)\n",
    "range_even_array"
   ]
  },
  {
   "cell_type": "code",
   "execution_count": 17,
   "id": "0b1e80b2-b395-4e9c-92e8-e5bcfb60b485",
   "metadata": {},
   "outputs": [
    {
     "data": {
      "text/plain": [
       "array([[[0., 0., 0., 0.],\n",
       "        [0., 0., 0., 0.],\n",
       "        [0., 0., 0., 0.]],\n",
       "\n",
       "       [[0., 0., 0., 0.],\n",
       "        [0., 0., 0., 0.],\n",
       "        [0., 0., 0., 0.]]])"
      ]
     },
     "execution_count": 17,
     "metadata": {},
     "output_type": "execute_result"
    }
   ],
   "source": [
    "#for creating a np array of zeros \n",
    "# np_array_with_zeros = np.zeros(3)\n",
    "np_array_with_zeros = np.zeros((2,3,4))\n",
    "np_array_with_zeros"
   ]
  },
  {
   "cell_type": "code",
   "execution_count": 18,
   "id": "6a3ca765-8e71-41f1-8e9e-41381ffcf1f8",
   "metadata": {},
   "outputs": [
    {
     "data": {
      "text/plain": [
       "array([[1., 1., 1.],\n",
       "       [1., 1., 1.]])"
      ]
     },
     "execution_count": 18,
     "metadata": {},
     "output_type": "execute_result"
    }
   ],
   "source": [
    "#simpilary for creating a array of ones \n",
    "np_array_of_ones = np.ones((2,3))\n",
    "np_array_of_ones"
   ]
  },
  {
   "cell_type": "code",
   "execution_count": 30,
   "id": "8abec620-e977-499f-b899-a96496c850b5",
   "metadata": {},
   "outputs": [
    {
     "data": {
      "text/plain": [
       "array([0.55577853, 0.64972168, 0.58087723, 0.16888183, 0.41586877,\n",
       "       0.65300567, 0.62057164, 0.40377004, 0.87376594, 0.5550648 ])"
      ]
     },
     "execution_count": 30,
     "metadata": {},
     "output_type": "execute_result"
    }
   ],
   "source": [
    "#generate random numbers between 0 and 1\n",
    "np.random.rand(10)"
   ]
  },
  {
   "cell_type": "code",
   "execution_count": 31,
   "id": "7fb2411f-c53e-40f8-b528-abbccbde1045",
   "metadata": {},
   "outputs": [
    {
     "data": {
      "text/plain": [
       "array([[0.42891124, 0.13969232]])"
      ]
     },
     "execution_count": 31,
     "metadata": {},
     "output_type": "execute_result"
    }
   ],
   "source": [
    "#similarly for array of random numbers\n",
    "np.random.rand(1,2)"
   ]
  },
  {
   "cell_type": "code",
   "execution_count": 19,
   "id": "a6a85848-a32c-4e77-ad12-fafdcd12ad3f",
   "metadata": {},
   "outputs": [
    {
     "data": {
      "text/plain": [
       "array([[10,  8,  2],\n",
       "       [14,  8,  1]])"
      ]
     },
     "execution_count": 19,
     "metadata": {},
     "output_type": "execute_result"
    }
   ],
   "source": [
    "#for creating random numbers between a range\n",
    "#5 random numbers between 1 and 20\n",
    "np.random.randint(1,20,(2,3))"
   ]
  },
  {
   "cell_type": "code",
   "execution_count": 32,
   "id": "c6dc1e56-8ba3-4cc3-beb2-44c76e73a183",
   "metadata": {},
   "outputs": [
    {
     "data": {
      "text/plain": [
       "array([ 5,  1, 18, 17, 18])"
      ]
     },
     "execution_count": 32,
     "metadata": {},
     "output_type": "execute_result"
    }
   ],
   "source": [
    "#for keeping the numbers same across various generation\n",
    "np.random.seed(43)    #can keep any value in seed function\n",
    "np.random.randint(1,20,5)\n"
   ]
  },
  {
   "cell_type": "code",
   "execution_count": 33,
   "id": "4882cc1a-9375-4a2b-9724-f4b9111e84ca",
   "metadata": {},
   "outputs": [
    {
     "data": {
      "text/plain": [
       "array([ 5,  1, 18, 17, 18])"
      ]
     },
     "execution_count": 33,
     "metadata": {},
     "output_type": "execute_result"
    }
   ],
   "source": [
    "#in this shell also the values will be same as above \n",
    "np.random.seed(43)    #can keep any value in seed function\n",
    "np.random.randint(1,20,5)"
   ]
  },
  {
   "cell_type": "code",
   "execution_count": 40,
   "id": "c2b7be08-d1ec-4830-a952-fcba56a4b7a3",
   "metadata": {},
   "outputs": [
    {
     "name": "stdout",
     "output_type": "stream",
     "text": [
      "two_d_array [[ 5  1 18]\n",
      " [17 18  3]]\n",
      "three d array [[[ 5  1 18]\n",
      "  [17 18  3]]]\n"
     ]
    }
   ],
   "source": [
    "#reshape convert shape , important thing to remember that no of elements need to be same\n",
    "np.random.seed(43) \n",
    "one_d_array = np.random.randint(1,20,6)\n",
    "\n",
    "#reshape is important\n",
    "two_d_array = one_d_array.reshape(2,3)\n",
    "print('two_d_array',two_d_array)\n",
    "three_d_array = one_d_array.reshape(1,2,3)\n",
    "print('three d array',three_d_array)"
   ]
  },
  {
   "cell_type": "code",
   "execution_count": 37,
   "id": "7cc28ade-30b4-4062-a53c-fa95bd5d6472",
   "metadata": {},
   "outputs": [
    {
     "data": {
      "text/plain": [
       "array([[[ 5,  1, 18],\n",
       "        [17, 18,  3]]])"
      ]
     },
     "execution_count": 37,
     "metadata": {},
     "output_type": "execute_result"
    }
   ],
   "source": [
    "three_d_array"
   ]
  },
  {
   "cell_type": "code",
   "execution_count": 43,
   "id": "8f375f29-b1fa-42d3-80a9-5d3a2859258e",
   "metadata": {},
   "outputs": [
    {
     "data": {
      "text/plain": [
       "1"
      ]
     },
     "execution_count": 43,
     "metadata": {},
     "output_type": "execute_result"
    }
   ],
   "source": [
    "three_d_array.min() #get the min of the array"
   ]
  },
  {
   "cell_type": "code",
   "execution_count": 39,
   "id": "d8aaeef9-2827-4ebb-8746-ec4619cab481",
   "metadata": {},
   "outputs": [
    {
     "data": {
      "text/plain": [
       "18"
      ]
     },
     "execution_count": 39,
     "metadata": {},
     "output_type": "execute_result"
    }
   ],
   "source": [
    "three_d_array.max()   #for getting max of 3d array"
   ]
  },
  {
   "cell_type": "code",
   "execution_count": 34,
   "id": "77a660e2-8ba9-4db7-80da-8ecdb9e4cc69",
   "metadata": {},
   "outputs": [
    {
     "name": "stdout",
     "output_type": "stream",
     "text": [
      "10.333333333333334 7.431165603202651\n"
     ]
    }
   ],
   "source": [
    "print(three_d_array.mean(), three_d_array.std())    #mean standardarray and many other things too"
   ]
  },
  {
   "cell_type": "code",
   "execution_count": 40,
   "id": "3dead045-3e5a-4182-b507-edc753cbf099",
   "metadata": {},
   "outputs": [
    {
     "data": {
      "text/plain": [
       "3"
      ]
     },
     "execution_count": 40,
     "metadata": {},
     "output_type": "execute_result"
    }
   ],
   "source": [
    "#can ACCESS the element in same way as we do in PYTHON LIST\n",
    "three_d_array[0,1,0] \n",
    "three_d_array[0,-1,-1]          #-1 for starting from end"
   ]
  },
  {
   "cell_type": "code",
   "execution_count": 47,
   "id": "109c7fe2-c46c-4bc6-bb43-1f07daba5d26",
   "metadata": {},
   "outputs": [
    {
     "data": {
      "text/plain": [
       "array([ 0,  1,  2,  3,  4,  5,  6,  7,  8,  9, 10])"
      ]
     },
     "execution_count": 47,
     "metadata": {},
     "output_type": "execute_result"
    }
   ],
   "source": [
    "np_arr = np.arange(0,11)\n",
    "np_arr"
   ]
  },
  {
   "cell_type": "code",
   "execution_count": 48,
   "id": "ce5e44f8-44e4-47ef-8fc5-703f6ee91405",
   "metadata": {},
   "outputs": [
    {
     "data": {
      "text/plain": [
       "array([1, 2, 3, 4])"
      ]
     },
     "execution_count": 48,
     "metadata": {},
     "output_type": "execute_result"
    }
   ],
   "source": [
    "#splicing \n",
    "np_arr[1:5]    #from element[1,5) "
   ]
  },
  {
   "cell_type": "code",
   "execution_count": 49,
   "id": "104a6f71-b8f0-4d1a-9706-21daf25cb1e4",
   "metadata": {},
   "outputs": [
    {
     "data": {
      "text/plain": [
       "array([0, 1, 2, 3, 4, 5, 6, 7])"
      ]
     },
     "execution_count": 49,
     "metadata": {},
     "output_type": "execute_result"
    }
   ],
   "source": [
    "np_arr[:8]   #from start till 8"
   ]
  },
  {
   "cell_type": "code",
   "execution_count": 50,
   "id": "1d3f112f-388f-4330-baba-3b4598fe35fe",
   "metadata": {},
   "outputs": [
    {
     "data": {
      "text/plain": [
       "array([ 8,  9, 10])"
      ]
     },
     "execution_count": 50,
     "metadata": {},
     "output_type": "execute_result"
    }
   ],
   "source": [
    "np_arr[8:]   #from 8 to end "
   ]
  },
  {
   "cell_type": "code",
   "execution_count": 51,
   "id": "3132e798-bd5a-4128-bb5f-d4b8bc7cf378",
   "metadata": {},
   "outputs": [
    {
     "data": {
      "text/plain": [
       "array([ 0,  1, 10, 10, 10,  5,  6,  7,  8,  9, 10])"
      ]
     },
     "execution_count": 51,
     "metadata": {},
     "output_type": "execute_result"
    }
   ],
   "source": [
    "#change number between a range\n",
    "np_arr[2:5] = 10   #we are chaging frmo index 2 till index 4 to value 10\n",
    "np_arr"
   ]
  },
  {
   "cell_type": "markdown",
   "id": "aef25f9d-6df6-4f5f-8201-2546eeebda29",
   "metadata": {},
   "source": [
    "# deep and shallow copy"
   ]
  },
  {
   "cell_type": "code",
   "execution_count": 52,
   "id": "8edb0b5e-f44b-48cf-9fbc-2fdd15adb5a9",
   "metadata": {},
   "outputs": [
    {
     "name": "stdout",
     "output_type": "stream",
     "text": [
      "[ 1 10 10 10]\n",
      "[99 99 99 99]\n",
      "original array from which we spliced  [ 0 99 99 99 99  5  6  7  8  9 10]\n",
      "[55 55 55 55]\n",
      "[ 0 99 99 99 99  5  6  7  8  9 10]\n"
     ]
    }
   ],
   "source": [
    "\n",
    "#important thing \n",
    "np_part_array = np_arr[1:5]\n",
    "print(np_part_array)\n",
    "\n",
    "#the np_part_array that is created is original array ony that is it is referencing to the original array only\n",
    "np_part_array[:] = 99\n",
    "print(np_part_array)\n",
    "print(\"original array from which we spliced \",np_arr)    #it was also edited since it was shallow copy\n",
    "\n",
    "#we can deep copy \n",
    "\n",
    "np_deep_copy = np_arr[1:5].copy()\n",
    "np_deep_copy[:]  = 55\n",
    "print(np_deep_copy)\n",
    "print(np_arr)"
   ]
  },
  {
   "cell_type": "markdown",
   "id": "68eb2180-e68d-4aed-966a-1c112366eac5",
   "metadata": {},
   "source": [
    "##### Below true and false things are very usefull in numpy and pandas"
   ]
  },
  {
   "cell_type": "code",
   "execution_count": 53,
   "id": "2a96f3a5-ca71-49ce-bc7d-5c1a3fd0e46c",
   "metadata": {},
   "outputs": [
    {
     "data": {
      "text/plain": [
       "array([ True, False, False, False, False,  True,  True,  True,  True,\n",
       "        True, False])"
      ]
     },
     "execution_count": 53,
     "metadata": {},
     "output_type": "execute_result"
    }
   ],
   "source": [
    "#conditionally select element from array\n",
    "np_arr <10"
   ]
  },
  {
   "cell_type": "code",
   "execution_count": 58,
   "id": "7c8d94ef-01a9-4f20-b02a-3d43678d6723",
   "metadata": {},
   "outputs": [
    {
     "data": {
      "text/plain": [
       "array([0, 5, 6, 7, 8, 9])"
      ]
     },
     "execution_count": 58,
     "metadata": {},
     "output_type": "execute_result"
    }
   ],
   "source": [
    "np_arr[np_arr<10]   #return the values which are less than 10 "
   ]
  },
  {
   "cell_type": "code",
   "execution_count": 54,
   "id": "4ef5e22e-d71c-4f4f-8c45-6bdd475b0914",
   "metadata": {},
   "outputs": [
    {
     "data": {
      "text/plain": [
       "array([ 0, 99, 99, 99, 99,  5,  6,  7,  8,  9, 10])"
      ]
     },
     "execution_count": 54,
     "metadata": {},
     "output_type": "execute_result"
    }
   ],
   "source": [
    "np_arr"
   ]
  },
  {
   "cell_type": "code",
   "execution_count": 55,
   "id": "1ed886e9-0528-4eb5-adab-9d337e9a48e0",
   "metadata": {},
   "outputs": [
    {
     "name": "stdout",
     "output_type": "stream",
     "text": [
      "[  5 104 104 104 104  10  11  12  13  14  15]\n",
      "[-5 94 94 94 94  0  1  2  3  4  5]\n",
      "[  0 495 495 495 495  25  30  35  40  45  50]\n",
      "[ 0.  19.8 19.8 19.8 19.8  1.   1.2  1.4  1.6  1.8  2. ]\n"
     ]
    }
   ],
   "source": [
    "#will do this operation to all the elements of the np.array\n",
    "print(np_arr+5)\n",
    "print(np_arr-5)\n",
    "print(np_arr*5)\n",
    "print(np_arr/5)"
   ]
  },
  {
   "cell_type": "code",
   "execution_count": 60,
   "id": "58261ff3-ba29-4557-908f-7284c7bb2679",
   "metadata": {},
   "outputs": [
    {
     "name": "stdout",
     "output_type": "stream",
     "text": [
      "[  0 198 198 198 198  10  12  14  16  18  20]\n",
      "[0 0 0 0 0 0 0 0 0 0 0]\n",
      "[   0 9801 9801 9801 9801   25   36   49   64   81  100]\n",
      "[1. 1. 1. 1. 1. 1. 1. 1. 1. 1. 1.]\n"
     ]
    }
   ],
   "source": [
    "#we can also do array to array operations only conditions the shape should be compatible\n",
    "print(np_arr + np_arr)\n",
    "print(np_arr -np_arr)\n",
    "print(np_arr * np_arr)\n",
    "print((np_arr+1) / (np_arr+1))   #did 1 for removing the issue of 0/0"
   ]
  },
  {
   "cell_type": "code",
   "execution_count": 61,
   "id": "3a0c81b7-9280-4747-a0c8-8409d7664bf5",
   "metadata": {},
   "outputs": [
    {
     "name": "stdout",
     "output_type": "stream",
     "text": [
      "[nan  1.  1.  1.  1.  1.  1.  1.  1.  1.  1.]\n"
     ]
    },
    {
     "name": "stderr",
     "output_type": "stream",
     "text": [
      "C:\\Users\\ravindra.yadav01\\AppData\\Local\\Temp\\ipykernel_19032\\1672218903.py:1: RuntimeWarning: invalid value encountered in divide\n",
      "  print((np_arr) / (np_arr))\n"
     ]
    }
   ],
   "source": [
    "print((np_arr) / (np_arr))     #like here 0 by 0 divide nan is saying not a number  \n",
    "\n",
    "# 0/0 is not a number\n",
    "# 3/0  is infinity"
   ]
  },
  {
   "cell_type": "code",
   "execution_count": 62,
   "id": "99eb6405-f117-4f3d-819b-37d36505d0ea",
   "metadata": {},
   "outputs": [
    {
     "data": {
      "text/plain": [
       "array([0.        , 9.94987437, 9.94987437, 9.94987437, 9.94987437,\n",
       "       2.23606798, 2.44948974, 2.64575131, 2.82842712, 3.        ,\n",
       "       3.16227766])"
      ]
     },
     "execution_count": 62,
     "metadata": {},
     "output_type": "execute_result"
    }
   ],
   "source": [
    "np.sqrt(np_arr)   #for getting sqaureroot of each element"
   ]
  },
  {
   "cell_type": "code",
   "execution_count": 63,
   "id": "a2f7cad5-22e6-4208-85c7-e8a38fe5c6f8",
   "metadata": {},
   "outputs": [
    {
     "data": {
      "text/plain": [
       "array([ 0.        , -0.99920683, -0.99920683, -0.99920683, -0.99920683,\n",
       "       -0.95892427, -0.2794155 ,  0.6569866 ,  0.98935825,  0.41211849,\n",
       "       -0.54402111])"
      ]
     },
     "execution_count": 63,
     "metadata": {},
     "output_type": "execute_result"
    }
   ],
   "source": [
    "np.sin(np_arr)"
   ]
  },
  {
   "cell_type": "code",
   "execution_count": 64,
   "id": "7fcda088-bad6-47c6-924e-4aa1c88cbb19",
   "metadata": {},
   "outputs": [
    {
     "data": {
      "text/plain": [
       "441"
      ]
     },
     "execution_count": 64,
     "metadata": {},
     "output_type": "execute_result"
    }
   ],
   "source": [
    "np.sum(np_arr)"
   ]
  },
  {
   "cell_type": "code",
   "execution_count": 67,
   "id": "ef34e23e-915c-40b6-961b-7e1903d681bd",
   "metadata": {},
   "outputs": [
    {
     "data": {
      "text/plain": [
       "1225"
      ]
     },
     "execution_count": 67,
     "metadata": {},
     "output_type": "execute_result"
    }
   ],
   "source": [
    "temp = np.arange(1,50)\n",
    "np.sum(temp)"
   ]
  },
  {
   "cell_type": "code",
   "execution_count": 70,
   "id": "f238b90f-fc4d-4286-ba99-800f8f8f026c",
   "metadata": {},
   "outputs": [
    {
     "name": "stdout",
     "output_type": "stream",
     "text": [
      "[[51 76]\n",
      " [90 66]]\n"
     ]
    }
   ],
   "source": [
    "two_d_arr = np.random.randint(1,101,(2,2))\n",
    "print(two_d_arr)"
   ]
  },
  {
   "cell_type": "code",
   "execution_count": 71,
   "id": "0c421658-fcf1-4178-aace-ecc8444b02d9",
   "metadata": {},
   "outputs": [
    {
     "name": "stdout",
     "output_type": "stream",
     "text": [
      "[127 156]\n"
     ]
    }
   ],
   "source": [
    "#axis 1 is along rows\n",
    "print(two_d_arr.sum(axis=1))"
   ]
  },
  {
   "cell_type": "code",
   "execution_count": 72,
   "id": "f0eaa7e5-9ee6-425f-bf06-ecd117c5f35d",
   "metadata": {},
   "outputs": [
    {
     "name": "stdout",
     "output_type": "stream",
     "text": [
      "[141 142]\n"
     ]
    }
   ],
   "source": [
    "#axis 0 is along columns\n",
    "print(two_d_arr.sum(axis=0))     #similarly can be done for mean and all"
   ]
  },
  {
   "cell_type": "code",
   "execution_count": 3,
   "id": "2227496c-1df4-4ea7-a3fb-118a2b1623a3",
   "metadata": {},
   "outputs": [],
   "source": [
    "array = np.arange(9).reshape(3,3)"
   ]
  },
  {
   "cell_type": "code",
   "execution_count": 4,
   "id": "3ca55403-648a-4356-8a75-1c60b4b51cef",
   "metadata": {},
   "outputs": [
    {
     "data": {
      "text/plain": [
       "array([[0, 1, 2],\n",
       "       [3, 4, 5],\n",
       "       [6, 7, 8]])"
      ]
     },
     "execution_count": 4,
     "metadata": {},
     "output_type": "execute_result"
    }
   ],
   "source": [
    "array"
   ]
  },
  {
   "cell_type": "code",
   "execution_count": 10,
   "id": "aeafdc04-b440-4735-a070-790ef13a7890",
   "metadata": {},
   "outputs": [
    {
     "data": {
      "text/plain": [
       "array([6])"
      ]
     },
     "execution_count": 10,
     "metadata": {},
     "output_type": "execute_result"
    }
   ],
   "source": [
    "np.diag(array,-2)"
   ]
  },
  {
   "cell_type": "code",
   "execution_count": 13,
   "id": "269a514b-7306-42e5-8ff8-008356cd3827",
   "metadata": {},
   "outputs": [
    {
     "data": {
      "text/plain": [
       "array([[6, 7, 8],\n",
       "       [3, 4, 5],\n",
       "       [0, 1, 2]])"
      ]
     },
     "execution_count": 13,
     "metadata": {},
     "output_type": "execute_result"
    }
   ],
   "source": [
    "array[::-1] #reverse the columns"
   ]
  },
  {
   "cell_type": "code",
   "execution_count": null,
   "id": "6f59da3e-fcb7-4c41-b4bc-005dd7742625",
   "metadata": {},
   "outputs": [],
   "source": []
  }
 ],
 "metadata": {
  "kernelspec": {
   "display_name": "Python 3 (ipykernel)",
   "language": "python",
   "name": "python3"
  },
  "language_info": {
   "codemirror_mode": {
    "name": "ipython",
    "version": 3
   },
   "file_extension": ".py",
   "mimetype": "text/x-python",
   "name": "python",
   "nbconvert_exporter": "python",
   "pygments_lexer": "ipython3",
   "version": "3.10.8"
  }
 },
 "nbformat": 4,
 "nbformat_minor": 5
}
