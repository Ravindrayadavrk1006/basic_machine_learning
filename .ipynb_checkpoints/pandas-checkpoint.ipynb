{
 "cells": [
  {
   "cell_type": "code",
   "execution_count": 1,
   "id": "952c8a76-1200-4bab-b9e7-f37171e6bf26",
   "metadata": {},
   "outputs": [],
   "source": [
    "import numpy as np"
   ]
  },
  {
   "cell_type": "code",
   "execution_count": 2,
   "id": "bf33dd01-d686-41d7-aa0f-622ffc68dc84",
   "metadata": {},
   "outputs": [
    {
     "data": {
      "text/plain": [
       "array([1402,  548, 1122])"
      ]
     },
     "execution_count": 2,
     "metadata": {},
     "output_type": "execute_result"
    }
   ],
   "source": [
    "sales = [1402, 548, 1122]\n",
    "sales_array = np.array(sales)\n",
    "sales_array"
   ]
  },
  {
   "cell_type": "markdown",
   "id": "69c17871-8296-44ac-ab48-ab66351526ec",
   "metadata": {},
   "source": [
    "#here we tried to store earning of ram , shyam and ghanshayam but thehe thing is we don't really remember which is ram which is ghyanshyma. \n",
    "\n",
    "\n",
    "this problem of better representation is solved by pandas hence we use it for better data representation\n"
   ]
  },
  {
   "cell_type": "code",
   "execution_count": 1,
   "id": "8173b348-2803-420c-bfa1-8dd196bd8327",
   "metadata": {},
   "outputs": [],
   "source": [
    "import pandas as pd"
   ]
  },
  {
   "cell_type": "code",
   "execution_count": 6,
   "id": "1b7d9035-249b-4a34-9dd1-8fb7566464a4",
   "metadata": {},
   "outputs": [
    {
     "data": {
      "text/plain": [
       "0    1\n",
       "1    2\n",
       "2    3\n",
       "3    4\n",
       "Name: random, dtype: int64"
      ]
     },
     "execution_count": 6,
     "metadata": {},
     "output_type": "execute_result"
    }
   ],
   "source": [
    "series_from_list = pd.Series([1,2,3,4], name='random')\n",
    "series_from_list"
   ]
  },
  {
   "cell_type": "code",
   "execution_count": 9,
   "id": "94336618-cea8-4db6-b6f3-e638197f5572",
   "metadata": {},
   "outputs": [
    {
     "name": "stdout",
     "output_type": "stream",
     "text": [
      "0    1402\n",
      "1     548\n",
      "2    1122\n",
      "dtype: int32\n",
      "type <class 'pandas.core.series.Series'>\n"
     ]
    }
   ],
   "source": [
    "#series \n",
    "#converting above numpy array as series \n",
    "sales_series = pd.Series(sales_array)\n",
    "print(sales_series)\n",
    "print(\"type\", type(sales_series))"
   ]
  },
  {
   "cell_type": "code",
   "execution_count": 10,
   "id": "8142e70a-b8b4-4142-8ffd-f066d235fe79",
   "metadata": {},
   "outputs": [
    {
     "data": {
      "text/plain": [
       "ram          1402\n",
       "shyam         548\n",
       "ghanshyam    1122\n",
       "dtype: int32"
      ]
     },
     "execution_count": 10,
     "metadata": {},
     "output_type": "execute_result"
    }
   ],
   "source": [
    "names = ['ram','shyam', 'ghanshyam']\n",
    "sales_series = pd.Series(sales_array, names)\n",
    "sales_series"
   ]
  },
  {
   "cell_type": "code",
   "execution_count": 11,
   "id": "1d0c5fb5-26d9-4569-80d9-45779c1adba5",
   "metadata": {},
   "outputs": [
    {
     "name": "stdout",
     "output_type": "stream",
     "text": [
      "1402\n",
      "1402\n"
     ]
    },
    {
     "name": "stderr",
     "output_type": "stream",
     "text": [
      "C:\\Users\\Ravindra\\AppData\\Local\\Temp\\ipykernel_16804\\2650063215.py:2: FutureWarning: Series.__getitem__ treating keys as positions is deprecated. In a future version, integer keys will always be treated as labels (consistent with DataFrame behavior). To access a value by position, use `ser.iloc[pos]`\n",
      "  print(sales_series[0])   #can get values using index as well\n"
     ]
    }
   ],
   "source": [
    "print(sales_series['ram'])\n",
    "print(sales_series[0])   #can get values using index as well\n"
   ]
  },
  {
   "cell_type": "markdown",
   "id": "6ec35d70-9894-4a89-9126-d487f0f2baa8",
   "metadata": {},
   "source": [
    "### can create series using dictionary as well"
   ]
  },
  {
   "cell_type": "code",
   "execution_count": 13,
   "id": "960f7d76-16f3-45f9-a18d-4d6fd9d90b05",
   "metadata": {},
   "outputs": [],
   "source": [
    "dic = {'ram':10, 'shyam':20, 'ghanshyam':30}\n",
    "pd_ser = pd.Series(dic)"
   ]
  },
  {
   "cell_type": "code",
   "execution_count": 14,
   "id": "7b7e7840-8316-4407-961a-35deb7425106",
   "metadata": {},
   "outputs": [
    {
     "data": {
      "text/plain": [
       "ram          1.0\n",
       "shyam        2.0\n",
       "ghanshyam    3.0\n",
       "dtype: float64"
      ]
     },
     "execution_count": 14,
     "metadata": {},
     "output_type": "execute_result"
    }
   ],
   "source": [
    "pd_ser * 0.1  #we can do operation for pandas also the first column is key or same as index"
   ]
  },
  {
   "cell_type": "code",
   "execution_count": 23,
   "id": "a242ca5b-d7c5-47f2-aba3-e46e5503c343",
   "metadata": {},
   "outputs": [
    {
     "name": "stdout",
     "output_type": "stream",
     "text": [
      "dict1-------------->\n",
      "ram          10\n",
      "shyam        20\n",
      "ghanshyam    30\n",
      "dtype: int64\n",
      "dict2-------------->\n",
      "ram       10\n",
      "shyam     20\n",
      "ganesh    30\n",
      "dtype: int64\n",
      "normal addition--------->\n",
      "ganesh        NaN\n",
      "ghanshyam     NaN\n",
      "ram          20.0\n",
      "shyam        40.0\n",
      "dtype: float64\n",
      "without fill values-------->\n",
      "ganesh        NaN\n",
      "ghanshyam     NaN\n",
      "ram          20.0\n",
      "shyam        40.0\n",
      "dtype: float64\n",
      "with fill_value------>\n",
      "mean --> 30.0\n",
      "ganesh       30.0\n",
      "ghanshyam    30.0\n",
      "ram          20.0\n",
      "shyam        40.0\n",
      "dtype: float64\n"
     ]
    }
   ],
   "source": [
    "dic1 = {'ram':10, 'shyam':20, 'ghanshyam':30}\n",
    "dic2 = dic = {'ram':10, 'shyam':20, 'ganesh':30}\n",
    "#if we do addition then we will get NaN for all the values which do not match in both the series\n",
    "print(\"dict1-------------->\")\n",
    "ser_1 = pd.Series(dic1)\n",
    "print(ser_1)\n",
    "print(\"dict2-------------->\")\n",
    "ser_2 = pd.Series(dic2)\n",
    "print(ser_2)\n",
    "print(\"normal addition--------->\")\n",
    "print(ser_1 + ser_2)    # the issue lies here when we do addition and both do not have the same index names\n",
    "print('without fill values-------->')\n",
    "print(ser_1.add(ser_2))   #it also does the same as above\n",
    "#we can improve by telling if not found set it to some values eg. set to 0\n",
    "print(\"with fill_value------>\")\n",
    "print(\"mean -->\", (ser_1 + ser_2).mean())\n",
    "print(ser_1.add(ser_2, fill_value= 0))"
   ]
  },
  {
   "cell_type": "markdown",
   "id": "e48ba747-9bcf-458f-a2ba-604438c5be04",
   "metadata": {},
   "source": [
    "### when we name the rows as we did in series and also name the columns it is called dataframe"
   ]
  },
  {
   "cell_type": "code",
   "execution_count": 10,
   "id": "f4e71410-365d-4a6c-adac-fb900b3f3ad0",
   "metadata": {},
   "outputs": [
    {
     "name": "stdout",
     "output_type": "stream",
     "text": [
      "[[96 51 97]\n",
      " [43 18  6]\n",
      " [31 99  5]\n",
      " [17  3 89]]\n"
     ]
    }
   ],
   "source": [
    "data = np.random.randint(1,101,(4,3))\n",
    "print(data)\n",
    "\n",
    "index_or_row_names = ['ram','shyam', 'ghanshyam' , 'suresh']\n",
    "columns=['jan', 'feb', 'march']"
   ]
  },
  {
   "cell_type": "code",
   "execution_count": 11,
   "id": "44dd57b6-d979-42d0-bd7a-ded751830a5e",
   "metadata": {},
   "outputs": [
    {
     "data": {
      "text/html": [
       "<div>\n",
       "<style scoped>\n",
       "    .dataframe tbody tr th:only-of-type {\n",
       "        vertical-align: middle;\n",
       "    }\n",
       "\n",
       "    .dataframe tbody tr th {\n",
       "        vertical-align: top;\n",
       "    }\n",
       "\n",
       "    .dataframe thead th {\n",
       "        text-align: right;\n",
       "    }\n",
       "</style>\n",
       "<table border=\"1\" class=\"dataframe\">\n",
       "  <thead>\n",
       "    <tr style=\"text-align: right;\">\n",
       "      <th></th>\n",
       "      <th>jan</th>\n",
       "      <th>feb</th>\n",
       "      <th>march</th>\n",
       "    </tr>\n",
       "  </thead>\n",
       "  <tbody>\n",
       "    <tr>\n",
       "      <th>ram</th>\n",
       "      <td>96</td>\n",
       "      <td>51</td>\n",
       "      <td>97</td>\n",
       "    </tr>\n",
       "    <tr>\n",
       "      <th>shyam</th>\n",
       "      <td>43</td>\n",
       "      <td>18</td>\n",
       "      <td>6</td>\n",
       "    </tr>\n",
       "    <tr>\n",
       "      <th>ghanshyam</th>\n",
       "      <td>31</td>\n",
       "      <td>99</td>\n",
       "      <td>5</td>\n",
       "    </tr>\n",
       "    <tr>\n",
       "      <th>suresh</th>\n",
       "      <td>17</td>\n",
       "      <td>3</td>\n",
       "      <td>89</td>\n",
       "    </tr>\n",
       "  </tbody>\n",
       "</table>\n",
       "</div>"
      ],
      "text/plain": [
       "           jan  feb  march\n",
       "ram         96   51     97\n",
       "shyam       43   18      6\n",
       "ghanshyam   31   99      5\n",
       "suresh      17    3     89"
      ]
     },
     "execution_count": 11,
     "metadata": {},
     "output_type": "execute_result"
    }
   ],
   "source": [
    "df = pd.DataFrame(data,index=index_or_row_names, columns=columns)\n",
    "df"
   ]
  },
  {
   "cell_type": "code",
   "execution_count": 12,
   "id": "d1997bcb-ac69-4474-8da3-759b824c214a",
   "metadata": {},
   "outputs": [
    {
     "name": "stdout",
     "output_type": "stream",
     "text": [
      " Volume in drive D is Data\n",
      " Volume Serial Number is 5E93-544A\n",
      "\n",
      " Directory of D:\\notes_all\\data_science_notes\n",
      "\n",
      "01/30/2024  07:05 PM    <DIR>          .\n",
      "01/30/2024  07:05 PM    <DIR>          ..\n",
      "01/30/2024  02:23 PM    <DIR>          .ipynb_checkpoints\n",
      "01/30/2024  05:49 PM             2,911 cars.csv\n",
      "01/19/2024  03:38 PM            12,336 cnn.ipynb\n",
      "01/29/2024  07:27 PM               255 data_science_notes.txt\n",
      "01/19/2024  02:50 PM    <DIR>          dataset_pokemon\n",
      "01/30/2024  02:22 PM            18,084 numpy_notes.ipynb\n",
      "01/30/2024  07:05 PM            59,893 pandas.ipynb\n",
      "01/29/2024  06:56 PM            18,084 Untitled.ipynb\n",
      "               6 File(s)        111,563 bytes\n",
      "               4 Dir(s)  258,422,460,416 bytes free\n"
     ]
    }
   ],
   "source": [
    "ls"
   ]
  },
  {
   "cell_type": "code",
   "execution_count": 24,
   "id": "0d48bb5e-7ac5-46fd-8101-be96b5b91f5b",
   "metadata": {},
   "outputs": [
    {
     "data": {
      "text/html": [
       "<div>\n",
       "<style scoped>\n",
       "    .dataframe tbody tr th:only-of-type {\n",
       "        vertical-align: middle;\n",
       "    }\n",
       "\n",
       "    .dataframe tbody tr th {\n",
       "        vertical-align: top;\n",
       "    }\n",
       "\n",
       "    .dataframe thead th {\n",
       "        text-align: right;\n",
       "    }\n",
       "</style>\n",
       "<table border=\"1\" class=\"dataframe\">\n",
       "  <thead>\n",
       "    <tr style=\"text-align: right;\">\n",
       "      <th></th>\n",
       "      <th>car</th>\n",
       "      <th>type</th>\n",
       "      <th>year</th>\n",
       "      <th>price</th>\n",
       "      <th>finance</th>\n",
       "      <th>day</th>\n",
       "      <th>dealer</th>\n",
       "      <th>customer</th>\n",
       "      <th>social_security</th>\n",
       "      <th>sex</th>\n",
       "    </tr>\n",
       "  </thead>\n",
       "  <tbody>\n",
       "    <tr>\n",
       "      <th>0</th>\n",
       "      <td>Mercedes-Benz A-Class</td>\n",
       "      <td>sedan</td>\n",
       "      <td>2019</td>\n",
       "      <td>39000</td>\n",
       "      <td>no</td>\n",
       "      <td>Sun</td>\n",
       "      <td>Mike</td>\n",
       "      <td>Stanley</td>\n",
       "      <td>555342396</td>\n",
       "      <td>M</td>\n",
       "    </tr>\n",
       "    <tr>\n",
       "      <th>1</th>\n",
       "      <td>Audi A6</td>\n",
       "      <td>sedan</td>\n",
       "      <td>2021</td>\n",
       "      <td>67800</td>\n",
       "      <td>yes</td>\n",
       "      <td>Mon</td>\n",
       "      <td>Sam</td>\n",
       "      <td>Brittany</td>\n",
       "      <td>887766234</td>\n",
       "      <td>F</td>\n",
       "    </tr>\n",
       "  </tbody>\n",
       "</table>\n",
       "</div>"
      ],
      "text/plain": [
       "                     car   type  year  price finance  day dealer  customer  \\\n",
       "0  Mercedes-Benz A-Class  sedan  2019  39000      no  Sun   Mike   Stanley   \n",
       "1                Audi A6  sedan  2021  67800     yes  Mon    Sam  Brittany   \n",
       "\n",
       "   social_security sex  \n",
       "0        555342396   M  \n",
       "1        887766234   F  "
      ]
     },
     "execution_count": 24,
     "metadata": {},
     "output_type": "execute_result"
    }
   ],
   "source": [
    "df_car = pd.read_csv('cars.csv')\n",
    "df_car.head(2)"
   ]
  },
  {
   "cell_type": "code",
   "execution_count": 14,
   "id": "1154aa9c-cc60-4fe0-a388-5e6e37db6304",
   "metadata": {},
   "outputs": [
    {
     "data": {
      "text/html": [
       "<div>\n",
       "<style scoped>\n",
       "    .dataframe tbody tr th:only-of-type {\n",
       "        vertical-align: middle;\n",
       "    }\n",
       "\n",
       "    .dataframe tbody tr th {\n",
       "        vertical-align: top;\n",
       "    }\n",
       "\n",
       "    .dataframe thead th {\n",
       "        text-align: right;\n",
       "    }\n",
       "</style>\n",
       "<table border=\"1\" class=\"dataframe\">\n",
       "  <thead>\n",
       "    <tr style=\"text-align: right;\">\n",
       "      <th></th>\n",
       "      <th>car</th>\n",
       "      <th>type</th>\n",
       "      <th>year</th>\n",
       "      <th>price</th>\n",
       "      <th>finance</th>\n",
       "      <th>day</th>\n",
       "      <th>dealer</th>\n",
       "      <th>customer</th>\n",
       "      <th>social_security</th>\n",
       "      <th>sex</th>\n",
       "    </tr>\n",
       "  </thead>\n",
       "  <tbody>\n",
       "    <tr>\n",
       "      <th>1</th>\n",
       "      <td>Audi A6</td>\n",
       "      <td>sedan</td>\n",
       "      <td>2021</td>\n",
       "      <td>67800</td>\n",
       "      <td>yes</td>\n",
       "      <td>Mon</td>\n",
       "      <td>Sam</td>\n",
       "      <td>Brittany</td>\n",
       "      <td>887766234</td>\n",
       "      <td>F</td>\n",
       "    </tr>\n",
       "    <tr>\n",
       "      <th>4</th>\n",
       "      <td>Hyundai Accent</td>\n",
       "      <td>hatchback</td>\n",
       "      <td>2017</td>\n",
       "      <td>23000</td>\n",
       "      <td>yes</td>\n",
       "      <td>Thur</td>\n",
       "      <td>Maddy</td>\n",
       "      <td>Sam</td>\n",
       "      <td>570566354</td>\n",
       "      <td>M</td>\n",
       "    </tr>\n",
       "    <tr>\n",
       "      <th>5</th>\n",
       "      <td>Porsche Cayenne</td>\n",
       "      <td>coupe</td>\n",
       "      <td>2021</td>\n",
       "      <td>82000</td>\n",
       "      <td>yes</td>\n",
       "      <td>Fri</td>\n",
       "      <td>Mike</td>\n",
       "      <td>Morgan</td>\n",
       "      <td>968258639</td>\n",
       "      <td>F</td>\n",
       "    </tr>\n",
       "    <tr>\n",
       "      <th>8</th>\n",
       "      <td>Jeep Wrangler</td>\n",
       "      <td>SUV</td>\n",
       "      <td>2017</td>\n",
       "      <td>33553</td>\n",
       "      <td>yes</td>\n",
       "      <td>Fri</td>\n",
       "      <td>Mike</td>\n",
       "      <td>Sam</td>\n",
       "      <td>877425852</td>\n",
       "      <td>M</td>\n",
       "    </tr>\n",
       "  </tbody>\n",
       "</table>\n",
       "</div>"
      ],
      "text/plain": [
       "               car       type  year  price finance   day dealer  customer  \\\n",
       "1          Audi A6      sedan  2021  67800     yes   Mon    Sam  Brittany   \n",
       "4   Hyundai Accent  hatchback  2017  23000     yes  Thur  Maddy       Sam   \n",
       "5  Porsche Cayenne      coupe  2021  82000     yes   Fri   Mike    Morgan   \n",
       "8    Jeep Wrangler        SUV  2017  33553     yes   Fri   Mike       Sam   \n",
       "\n",
       "   social_security sex  \n",
       "1        887766234   F  \n",
       "4        570566354   M  \n",
       "5        968258639   F  \n",
       "8        877425852   M  "
      ]
     },
     "execution_count": 14,
     "metadata": {},
     "output_type": "execute_result"
    }
   ],
   "source": [
    "df_car['finance'] != 'no'   #will return all the rows where finance is no\n",
    "#if we want the entries where finance is no we do \n",
    "df_car[df_car['finance'] != 'no']\n",
    "#if we want any particular column eg car\n",
    "df_car[df_car['finance'] != 'no'].head(4)"
   ]
  },
  {
   "cell_type": "code",
   "execution_count": 15,
   "id": "062a6ad1-8fa0-49c7-a9e0-4a7ec635b173",
   "metadata": {},
   "outputs": [],
   "source": [
    "bool_val = (df_car['finance'] != 'no') & (df_car['year']>2017)   #if we want to check more than one condition then do above"
   ]
  },
  {
   "cell_type": "code",
   "execution_count": 16,
   "id": "3adc40ea-0e96-41d3-ab36-27200f346142",
   "metadata": {},
   "outputs": [
    {
     "data": {
      "text/html": [
       "<div>\n",
       "<style scoped>\n",
       "    .dataframe tbody tr th:only-of-type {\n",
       "        vertical-align: middle;\n",
       "    }\n",
       "\n",
       "    .dataframe tbody tr th {\n",
       "        vertical-align: top;\n",
       "    }\n",
       "\n",
       "    .dataframe thead th {\n",
       "        text-align: right;\n",
       "    }\n",
       "</style>\n",
       "<table border=\"1\" class=\"dataframe\">\n",
       "  <thead>\n",
       "    <tr style=\"text-align: right;\">\n",
       "      <th></th>\n",
       "      <th>car</th>\n",
       "      <th>type</th>\n",
       "      <th>year</th>\n",
       "      <th>price</th>\n",
       "      <th>finance</th>\n",
       "      <th>day</th>\n",
       "      <th>dealer</th>\n",
       "      <th>customer</th>\n",
       "      <th>social_security</th>\n",
       "      <th>sex</th>\n",
       "    </tr>\n",
       "  </thead>\n",
       "  <tbody>\n",
       "    <tr>\n",
       "      <th>1</th>\n",
       "      <td>Audi A6</td>\n",
       "      <td>sedan</td>\n",
       "      <td>2021</td>\n",
       "      <td>67800</td>\n",
       "      <td>yes</td>\n",
       "      <td>Mon</td>\n",
       "      <td>Sam</td>\n",
       "      <td>Brittany</td>\n",
       "      <td>887766234</td>\n",
       "      <td>F</td>\n",
       "    </tr>\n",
       "    <tr>\n",
       "      <th>5</th>\n",
       "      <td>Porsche Cayenne</td>\n",
       "      <td>coupe</td>\n",
       "      <td>2021</td>\n",
       "      <td>82000</td>\n",
       "      <td>yes</td>\n",
       "      <td>Fri</td>\n",
       "      <td>Mike</td>\n",
       "      <td>Morgan</td>\n",
       "      <td>968258639</td>\n",
       "      <td>F</td>\n",
       "    </tr>\n",
       "  </tbody>\n",
       "</table>\n",
       "</div>"
      ],
      "text/plain": [
       "               car   type  year  price finance  day dealer  customer  \\\n",
       "1          Audi A6  sedan  2021  67800     yes  Mon    Sam  Brittany   \n",
       "5  Porsche Cayenne  coupe  2021  82000     yes  Fri   Mike    Morgan   \n",
       "\n",
       "   social_security sex  \n",
       "1        887766234   F  \n",
       "5        968258639   F  "
      ]
     },
     "execution_count": 16,
     "metadata": {},
     "output_type": "execute_result"
    }
   ],
   "source": [
    "df_car[bool_val].head(2)"
   ]
  },
  {
   "cell_type": "code",
   "execution_count": 17,
   "id": "3bb5af07-feb4-4cf0-85ff-cd11cf1cc090",
   "metadata": {},
   "outputs": [
    {
     "data": {
      "text/html": [
       "<div>\n",
       "<style scoped>\n",
       "    .dataframe tbody tr th:only-of-type {\n",
       "        vertical-align: middle;\n",
       "    }\n",
       "\n",
       "    .dataframe tbody tr th {\n",
       "        vertical-align: top;\n",
       "    }\n",
       "\n",
       "    .dataframe thead th {\n",
       "        text-align: right;\n",
       "    }\n",
       "</style>\n",
       "<table border=\"1\" class=\"dataframe\">\n",
       "  <thead>\n",
       "    <tr style=\"text-align: right;\">\n",
       "      <th></th>\n",
       "      <th>car</th>\n",
       "      <th>type</th>\n",
       "      <th>year</th>\n",
       "      <th>price</th>\n",
       "      <th>finance</th>\n",
       "      <th>day</th>\n",
       "      <th>dealer</th>\n",
       "      <th>customer</th>\n",
       "      <th>social_security</th>\n",
       "      <th>sex</th>\n",
       "    </tr>\n",
       "  </thead>\n",
       "  <tbody>\n",
       "    <tr>\n",
       "      <th>0</th>\n",
       "      <td>Mercedes-Benz A-Class</td>\n",
       "      <td>sedan</td>\n",
       "      <td>2019</td>\n",
       "      <td>39000</td>\n",
       "      <td>no</td>\n",
       "      <td>Sun</td>\n",
       "      <td>Mike</td>\n",
       "      <td>Stanley</td>\n",
       "      <td>555342396</td>\n",
       "      <td>M</td>\n",
       "    </tr>\n",
       "    <tr>\n",
       "      <th>1</th>\n",
       "      <td>Audi A6</td>\n",
       "      <td>sedan</td>\n",
       "      <td>2021</td>\n",
       "      <td>67800</td>\n",
       "      <td>yes</td>\n",
       "      <td>Mon</td>\n",
       "      <td>Sam</td>\n",
       "      <td>Brittany</td>\n",
       "      <td>887766234</td>\n",
       "      <td>F</td>\n",
       "    </tr>\n",
       "  </tbody>\n",
       "</table>\n",
       "</div>"
      ],
      "text/plain": [
       "                     car   type  year  price finance  day dealer  customer  \\\n",
       "0  Mercedes-Benz A-Class  sedan  2019  39000      no  Sun   Mike   Stanley   \n",
       "1                Audi A6  sedan  2021  67800     yes  Mon    Sam  Brittany   \n",
       "\n",
       "   social_security sex  \n",
       "0        555342396   M  \n",
       "1        887766234   F  "
      ]
     },
     "execution_count": 17,
     "metadata": {},
     "output_type": "execute_result"
    }
   ],
   "source": [
    "#for OR \n",
    "bool_val_using_or = (df_car['finance'] != 'no') | (df_car['year']>2017) \n",
    "df_car[bool_val_using_or].head(2)"
   ]
  },
  {
   "cell_type": "markdown",
   "id": "7c911da0-f4c3-4aea-8e05-b7eb51713b36",
   "metadata": {},
   "source": [
    "## isin function checks same as in operator in python"
   ]
  },
  {
   "cell_type": "code",
   "execution_count": 18,
   "id": "f51f4fda-d2b1-4dab-bf79-772787df8097",
   "metadata": {},
   "outputs": [
    {
     "data": {
      "text/html": [
       "<div>\n",
       "<style scoped>\n",
       "    .dataframe tbody tr th:only-of-type {\n",
       "        vertical-align: middle;\n",
       "    }\n",
       "\n",
       "    .dataframe tbody tr th {\n",
       "        vertical-align: top;\n",
       "    }\n",
       "\n",
       "    .dataframe thead th {\n",
       "        text-align: right;\n",
       "    }\n",
       "</style>\n",
       "<table border=\"1\" class=\"dataframe\">\n",
       "  <thead>\n",
       "    <tr style=\"text-align: right;\">\n",
       "      <th></th>\n",
       "      <th>car</th>\n",
       "      <th>type</th>\n",
       "      <th>year</th>\n",
       "      <th>price</th>\n",
       "      <th>finance</th>\n",
       "      <th>day</th>\n",
       "      <th>dealer</th>\n",
       "      <th>customer</th>\n",
       "      <th>social_security</th>\n",
       "      <th>sex</th>\n",
       "    </tr>\n",
       "  </thead>\n",
       "  <tbody>\n",
       "    <tr>\n",
       "      <th>0</th>\n",
       "      <td>Mercedes-Benz A-Class</td>\n",
       "      <td>sedan</td>\n",
       "      <td>2019</td>\n",
       "      <td>39000</td>\n",
       "      <td>no</td>\n",
       "      <td>Sun</td>\n",
       "      <td>Mike</td>\n",
       "      <td>Stanley</td>\n",
       "      <td>555342396</td>\n",
       "      <td>M</td>\n",
       "    </tr>\n",
       "    <tr>\n",
       "      <th>1</th>\n",
       "      <td>Audi A6</td>\n",
       "      <td>sedan</td>\n",
       "      <td>2021</td>\n",
       "      <td>67800</td>\n",
       "      <td>yes</td>\n",
       "      <td>Mon</td>\n",
       "      <td>Sam</td>\n",
       "      <td>Brittany</td>\n",
       "      <td>887766234</td>\n",
       "      <td>F</td>\n",
       "    </tr>\n",
       "    <tr>\n",
       "      <th>2</th>\n",
       "      <td>Nissan Altima</td>\n",
       "      <td>sedan</td>\n",
       "      <td>2015</td>\n",
       "      <td>17500</td>\n",
       "      <td>no</td>\n",
       "      <td>Sun</td>\n",
       "      <td>Mike</td>\n",
       "      <td>Todd</td>\n",
       "      <td>998573477</td>\n",
       "      <td>M</td>\n",
       "    </tr>\n",
       "    <tr>\n",
       "      <th>3</th>\n",
       "      <td>Chevrolet Equinox</td>\n",
       "      <td>SUV</td>\n",
       "      <td>2013</td>\n",
       "      <td>9600</td>\n",
       "      <td>no</td>\n",
       "      <td>Wed</td>\n",
       "      <td>Turner</td>\n",
       "      <td>Jasime</td>\n",
       "      <td>342234563</td>\n",
       "      <td>F</td>\n",
       "    </tr>\n",
       "    <tr>\n",
       "      <th>6</th>\n",
       "      <td>Volkswagen Jetta</td>\n",
       "      <td>sedan</td>\n",
       "      <td>2000</td>\n",
       "      <td>3500</td>\n",
       "      <td>no</td>\n",
       "      <td>Tue</td>\n",
       "      <td>Turner</td>\n",
       "      <td>Aaron</td>\n",
       "      <td>557275923</td>\n",
       "      <td>M</td>\n",
       "    </tr>\n",
       "  </tbody>\n",
       "</table>\n",
       "</div>"
      ],
      "text/plain": [
       "                     car   type  year  price finance  day  dealer  customer  \\\n",
       "0  Mercedes-Benz A-Class  sedan  2019  39000      no  Sun    Mike   Stanley   \n",
       "1                Audi A6  sedan  2021  67800     yes  Mon     Sam  Brittany   \n",
       "2          Nissan Altima  sedan  2015  17500      no  Sun    Mike      Todd   \n",
       "3      Chevrolet Equinox    SUV  2013   9600      no  Wed  Turner    Jasime   \n",
       "6       Volkswagen Jetta  sedan  2000   3500      no  Tue  Turner     Aaron   \n",
       "\n",
       "   social_security sex  \n",
       "0        555342396   M  \n",
       "1        887766234   F  \n",
       "2        998573477   M  \n",
       "3        342234563   F  \n",
       "6        557275923   M  "
      ]
     },
     "execution_count": 18,
     "metadata": {},
     "output_type": "execute_result"
    }
   ],
   "source": [
    "bool_values = df_car['day'].isin(['Sun','Mon','Tue','Wed'])\n",
    "df_car[bool_values].head()"
   ]
  },
  {
   "cell_type": "markdown",
   "id": "4dc0b66c-ae67-4011-ad21-4472d3084768",
   "metadata": {},
   "source": [
    "## various methods in pandas dataframe"
   ]
  },
  {
   "cell_type": "markdown",
   "id": "43fbd4ed-ca4b-41bd-8fdf-b70206c23707",
   "metadata": {},
   "source": [
    "### .apply() method is used for applying a function to all the elements"
   ]
  },
  {
   "cell_type": "code",
   "execution_count": 19,
   "id": "7f0ff248-fc0d-451a-934c-651bf10504da",
   "metadata": {},
   "outputs": [],
   "source": [
    "#function to be applied\n",
    "def add_tax(price):\n",
    "    return round(price*1.12,0)    #round to 0 decimal places after adding 12% tax\n"
   ]
  },
  {
   "cell_type": "code",
   "execution_count": 20,
   "id": "68643a53-3610-4c4c-ac0c-8fb871d19716",
   "metadata": {},
   "outputs": [
    {
     "name": "stdout",
     "output_type": "stream",
     "text": [
      "0    43680.0\n",
      "1    75936.0\n",
      "2    19600.0\n",
      "3    10752.0\n",
      "4    25760.0\n",
      "Name: price, dtype: float64\n"
     ]
    }
   ],
   "source": [
    "total_price = df_car['price'].apply(add_tax)\n",
    "print(total_price.head())\n",
    "\n",
    "#let's append it to the df \n",
    "df_car['total_price'] = total_price"
   ]
  },
  {
   "cell_type": "code",
   "execution_count": 21,
   "id": "c579be77-85bd-4f3e-b030-334e377f1048",
   "metadata": {},
   "outputs": [
    {
     "data": {
      "text/html": [
       "<div>\n",
       "<style scoped>\n",
       "    .dataframe tbody tr th:only-of-type {\n",
       "        vertical-align: middle;\n",
       "    }\n",
       "\n",
       "    .dataframe tbody tr th {\n",
       "        vertical-align: top;\n",
       "    }\n",
       "\n",
       "    .dataframe thead th {\n",
       "        text-align: right;\n",
       "    }\n",
       "</style>\n",
       "<table border=\"1\" class=\"dataframe\">\n",
       "  <thead>\n",
       "    <tr style=\"text-align: right;\">\n",
       "      <th></th>\n",
       "      <th>car</th>\n",
       "      <th>type</th>\n",
       "      <th>year</th>\n",
       "      <th>price</th>\n",
       "      <th>finance</th>\n",
       "      <th>day</th>\n",
       "      <th>dealer</th>\n",
       "      <th>customer</th>\n",
       "      <th>social_security</th>\n",
       "      <th>sex</th>\n",
       "      <th>total_price</th>\n",
       "    </tr>\n",
       "  </thead>\n",
       "  <tbody>\n",
       "    <tr>\n",
       "      <th>0</th>\n",
       "      <td>Mercedes-Benz A-Class</td>\n",
       "      <td>sedan</td>\n",
       "      <td>2019</td>\n",
       "      <td>39000</td>\n",
       "      <td>no</td>\n",
       "      <td>Sun</td>\n",
       "      <td>Mike</td>\n",
       "      <td>Stanley</td>\n",
       "      <td>555342396</td>\n",
       "      <td>M</td>\n",
       "      <td>43680.0</td>\n",
       "    </tr>\n",
       "    <tr>\n",
       "      <th>1</th>\n",
       "      <td>Audi A6</td>\n",
       "      <td>sedan</td>\n",
       "      <td>2021</td>\n",
       "      <td>67800</td>\n",
       "      <td>yes</td>\n",
       "      <td>Mon</td>\n",
       "      <td>Sam</td>\n",
       "      <td>Brittany</td>\n",
       "      <td>887766234</td>\n",
       "      <td>F</td>\n",
       "      <td>75936.0</td>\n",
       "    </tr>\n",
       "    <tr>\n",
       "      <th>2</th>\n",
       "      <td>Nissan Altima</td>\n",
       "      <td>sedan</td>\n",
       "      <td>2015</td>\n",
       "      <td>17500</td>\n",
       "      <td>no</td>\n",
       "      <td>Sun</td>\n",
       "      <td>Mike</td>\n",
       "      <td>Todd</td>\n",
       "      <td>998573477</td>\n",
       "      <td>M</td>\n",
       "      <td>19600.0</td>\n",
       "    </tr>\n",
       "    <tr>\n",
       "      <th>3</th>\n",
       "      <td>Chevrolet Equinox</td>\n",
       "      <td>SUV</td>\n",
       "      <td>2013</td>\n",
       "      <td>9600</td>\n",
       "      <td>no</td>\n",
       "      <td>Wed</td>\n",
       "      <td>Turner</td>\n",
       "      <td>Jasime</td>\n",
       "      <td>342234563</td>\n",
       "      <td>F</td>\n",
       "      <td>10752.0</td>\n",
       "    </tr>\n",
       "    <tr>\n",
       "      <th>4</th>\n",
       "      <td>Hyundai Accent</td>\n",
       "      <td>hatchback</td>\n",
       "      <td>2017</td>\n",
       "      <td>23000</td>\n",
       "      <td>yes</td>\n",
       "      <td>Thur</td>\n",
       "      <td>Maddy</td>\n",
       "      <td>Sam</td>\n",
       "      <td>570566354</td>\n",
       "      <td>M</td>\n",
       "      <td>25760.0</td>\n",
       "    </tr>\n",
       "  </tbody>\n",
       "</table>\n",
       "</div>"
      ],
      "text/plain": [
       "                     car       type  year  price finance   day  dealer  \\\n",
       "0  Mercedes-Benz A-Class      sedan  2019  39000      no   Sun    Mike   \n",
       "1                Audi A6      sedan  2021  67800     yes   Mon     Sam   \n",
       "2          Nissan Altima      sedan  2015  17500      no   Sun    Mike   \n",
       "3      Chevrolet Equinox        SUV  2013   9600      no   Wed  Turner   \n",
       "4         Hyundai Accent  hatchback  2017  23000     yes  Thur   Maddy   \n",
       "\n",
       "   customer  social_security sex  total_price  \n",
       "0   Stanley        555342396   M      43680.0  \n",
       "1  Brittany        887766234   F      75936.0  \n",
       "2      Todd        998573477   M      19600.0  \n",
       "3    Jasime        342234563   F      10752.0  \n",
       "4       Sam        570566354   M      25760.0  "
      ]
     },
     "execution_count": 21,
     "metadata": {},
     "output_type": "execute_result"
    }
   ],
   "source": [
    "df_car.head()"
   ]
  },
  {
   "cell_type": "markdown",
   "id": "6e9acf77-4fa6-4c42-97db-3dd4fef4a227",
   "metadata": {},
   "source": [
    "### .describe() function for getting various values like mean ,median, standard deviation and all for all the number columns"
   ]
  },
  {
   "cell_type": "code",
   "execution_count": 22,
   "id": "a1d15976-9f9e-4f08-8ea1-4586222a1673",
   "metadata": {},
   "outputs": [
    {
     "data": {
      "text/html": [
       "<div>\n",
       "<style scoped>\n",
       "    .dataframe tbody tr th:only-of-type {\n",
       "        vertical-align: middle;\n",
       "    }\n",
       "\n",
       "    .dataframe tbody tr th {\n",
       "        vertical-align: top;\n",
       "    }\n",
       "\n",
       "    .dataframe thead th {\n",
       "        text-align: right;\n",
       "    }\n",
       "</style>\n",
       "<table border=\"1\" class=\"dataframe\">\n",
       "  <thead>\n",
       "    <tr style=\"text-align: right;\">\n",
       "      <th></th>\n",
       "      <th>year</th>\n",
       "      <th>price</th>\n",
       "      <th>social_security</th>\n",
       "      <th>total_price</th>\n",
       "    </tr>\n",
       "  </thead>\n",
       "  <tbody>\n",
       "    <tr>\n",
       "      <th>count</th>\n",
       "      <td>45.000000</td>\n",
       "      <td>45.000000</td>\n",
       "      <td>4.500000e+01</td>\n",
       "      <td>45.000000</td>\n",
       "    </tr>\n",
       "    <tr>\n",
       "      <th>mean</th>\n",
       "      <td>2016.222222</td>\n",
       "      <td>54373.377778</td>\n",
       "      <td>6.358065e+08</td>\n",
       "      <td>60898.133333</td>\n",
       "    </tr>\n",
       "    <tr>\n",
       "      <th>std</th>\n",
       "      <td>5.603931</td>\n",
       "      <td>50910.915441</td>\n",
       "      <td>3.096242e+08</td>\n",
       "      <td>57020.208903</td>\n",
       "    </tr>\n",
       "    <tr>\n",
       "      <th>min</th>\n",
       "      <td>2000.000000</td>\n",
       "      <td>2235.000000</td>\n",
       "      <td>7.006635e+07</td>\n",
       "      <td>2503.000000</td>\n",
       "    </tr>\n",
       "    <tr>\n",
       "      <th>25%</th>\n",
       "      <td>2015.000000</td>\n",
       "      <td>17434.000000</td>\n",
       "      <td>3.346424e+08</td>\n",
       "      <td>19526.000000</td>\n",
       "    </tr>\n",
       "    <tr>\n",
       "      <th>50%</th>\n",
       "      <td>2018.000000</td>\n",
       "      <td>43553.000000</td>\n",
       "      <td>5.795217e+08</td>\n",
       "      <td>48779.000000</td>\n",
       "    </tr>\n",
       "    <tr>\n",
       "      <th>75%</th>\n",
       "      <td>2020.000000</td>\n",
       "      <td>78422.000000</td>\n",
       "      <td>9.475778e+08</td>\n",
       "      <td>87833.000000</td>\n",
       "    </tr>\n",
       "    <tr>\n",
       "      <th>max</th>\n",
       "      <td>2022.000000</td>\n",
       "      <td>232000.000000</td>\n",
       "      <td>9.985735e+08</td>\n",
       "      <td>259840.000000</td>\n",
       "    </tr>\n",
       "  </tbody>\n",
       "</table>\n",
       "</div>"
      ],
      "text/plain": [
       "              year          price  social_security    total_price\n",
       "count    45.000000      45.000000     4.500000e+01      45.000000\n",
       "mean   2016.222222   54373.377778     6.358065e+08   60898.133333\n",
       "std       5.603931   50910.915441     3.096242e+08   57020.208903\n",
       "min    2000.000000    2235.000000     7.006635e+07    2503.000000\n",
       "25%    2015.000000   17434.000000     3.346424e+08   19526.000000\n",
       "50%    2018.000000   43553.000000     5.795217e+08   48779.000000\n",
       "75%    2020.000000   78422.000000     9.475778e+08   87833.000000\n",
       "max    2022.000000  232000.000000     9.985735e+08  259840.000000"
      ]
     },
     "execution_count": 22,
     "metadata": {},
     "output_type": "execute_result"
    }
   ],
   "source": [
    "df_car.describe()"
   ]
  },
  {
   "cell_type": "markdown",
   "id": "95d8d8ca-a51e-4d16-a5ea-92950f76c336",
   "metadata": {},
   "source": [
    "### .transpose() we can rotate by making index to column and vice versa using "
   ]
  },
  {
   "cell_type": "code",
   "execution_count": 26,
   "id": "d590f07b-928b-45af-bea6-de265ed9f54e",
   "metadata": {},
   "outputs": [
    {
     "data": {
      "text/html": [
       "<div>\n",
       "<style scoped>\n",
       "    .dataframe tbody tr th:only-of-type {\n",
       "        vertical-align: middle;\n",
       "    }\n",
       "\n",
       "    .dataframe tbody tr th {\n",
       "        vertical-align: top;\n",
       "    }\n",
       "\n",
       "    .dataframe thead th {\n",
       "        text-align: right;\n",
       "    }\n",
       "</style>\n",
       "<table border=\"1\" class=\"dataframe\">\n",
       "  <thead>\n",
       "    <tr style=\"text-align: right;\">\n",
       "      <th></th>\n",
       "      <th>count</th>\n",
       "      <th>mean</th>\n",
       "      <th>std</th>\n",
       "      <th>min</th>\n",
       "      <th>25%</th>\n",
       "      <th>50%</th>\n",
       "      <th>75%</th>\n",
       "      <th>max</th>\n",
       "    </tr>\n",
       "  </thead>\n",
       "  <tbody>\n",
       "    <tr>\n",
       "      <th>year</th>\n",
       "      <td>45.0</td>\n",
       "      <td>2.016222e+03</td>\n",
       "      <td>5.603931e+00</td>\n",
       "      <td>2000.0</td>\n",
       "      <td>2015.0</td>\n",
       "      <td>2018.0</td>\n",
       "      <td>2020.0</td>\n",
       "      <td>2022.0</td>\n",
       "    </tr>\n",
       "    <tr>\n",
       "      <th>price</th>\n",
       "      <td>45.0</td>\n",
       "      <td>5.437338e+04</td>\n",
       "      <td>5.091092e+04</td>\n",
       "      <td>2235.0</td>\n",
       "      <td>17434.0</td>\n",
       "      <td>43553.0</td>\n",
       "      <td>78422.0</td>\n",
       "      <td>232000.0</td>\n",
       "    </tr>\n",
       "    <tr>\n",
       "      <th>social_security</th>\n",
       "      <td>45.0</td>\n",
       "      <td>6.358065e+08</td>\n",
       "      <td>3.096242e+08</td>\n",
       "      <td>70066354.0</td>\n",
       "      <td>334642443.0</td>\n",
       "      <td>579521683.0</td>\n",
       "      <td>947577792.0</td>\n",
       "      <td>998573477.0</td>\n",
       "    </tr>\n",
       "  </tbody>\n",
       "</table>\n",
       "</div>"
      ],
      "text/plain": [
       "                 count          mean           std         min          25%  \\\n",
       "year              45.0  2.016222e+03  5.603931e+00      2000.0       2015.0   \n",
       "price             45.0  5.437338e+04  5.091092e+04      2235.0      17434.0   \n",
       "social_security   45.0  6.358065e+08  3.096242e+08  70066354.0  334642443.0   \n",
       "\n",
       "                         50%          75%          max  \n",
       "year                  2018.0       2020.0       2022.0  \n",
       "price                43553.0      78422.0     232000.0  \n",
       "social_security  579521683.0  947577792.0  998573477.0  "
      ]
     },
     "execution_count": 26,
     "metadata": {},
     "output_type": "execute_result"
    }
   ],
   "source": [
    "df_car.transpose()   # but will be more usefull in the above describe result\n",
    "df_car.describe().T   #for doing the transpose we can do .transpose() or .T"
   ]
  },
  {
   "cell_type": "markdown",
   "id": "cab6b505-6b34-4067-91ed-9061cbaddb0c",
   "metadata": {},
   "source": [
    "### .sort_values() sorting by giving a array of values so if first got same then sort by next thing and so on"
   ]
  },
  {
   "cell_type": "code",
   "execution_count": 27,
   "id": "44a256f9-bf99-4aaa-9e49-f2dc6108f06c",
   "metadata": {},
   "outputs": [
    {
     "data": {
      "text/html": [
       "<div>\n",
       "<style scoped>\n",
       "    .dataframe tbody tr th:only-of-type {\n",
       "        vertical-align: middle;\n",
       "    }\n",
       "\n",
       "    .dataframe tbody tr th {\n",
       "        vertical-align: top;\n",
       "    }\n",
       "\n",
       "    .dataframe thead th {\n",
       "        text-align: right;\n",
       "    }\n",
       "</style>\n",
       "<table border=\"1\" class=\"dataframe\">\n",
       "  <thead>\n",
       "    <tr style=\"text-align: right;\">\n",
       "      <th></th>\n",
       "      <th>car</th>\n",
       "      <th>type</th>\n",
       "      <th>year</th>\n",
       "      <th>price</th>\n",
       "      <th>finance</th>\n",
       "      <th>day</th>\n",
       "      <th>dealer</th>\n",
       "      <th>customer</th>\n",
       "      <th>social_security</th>\n",
       "      <th>sex</th>\n",
       "    </tr>\n",
       "  </thead>\n",
       "  <tbody>\n",
       "    <tr>\n",
       "      <th>19</th>\n",
       "      <td>Volkswagen Jetta</td>\n",
       "      <td>sedan</td>\n",
       "      <td>2004</td>\n",
       "      <td>2235</td>\n",
       "      <td>no</td>\n",
       "      <td>Tue</td>\n",
       "      <td>Turner</td>\n",
       "      <td>Git</td>\n",
       "      <td>995358322</td>\n",
       "      <td>M</td>\n",
       "    </tr>\n",
       "    <tr>\n",
       "      <th>30</th>\n",
       "      <td>Honda Civic</td>\n",
       "      <td>sedan</td>\n",
       "      <td>2000</td>\n",
       "      <td>2333</td>\n",
       "      <td>no</td>\n",
       "      <td>Sat</td>\n",
       "      <td>Brittany</td>\n",
       "      <td>Allen</td>\n",
       "      <td>134642443</td>\n",
       "      <td>M</td>\n",
       "    </tr>\n",
       "    <tr>\n",
       "      <th>6</th>\n",
       "      <td>Volkswagen Jetta</td>\n",
       "      <td>sedan</td>\n",
       "      <td>2000</td>\n",
       "      <td>3500</td>\n",
       "      <td>no</td>\n",
       "      <td>Tue</td>\n",
       "      <td>Turner</td>\n",
       "      <td>Aaron</td>\n",
       "      <td>557275923</td>\n",
       "      <td>M</td>\n",
       "    </tr>\n",
       "    <tr>\n",
       "      <th>41</th>\n",
       "      <td>Jeep Wrangler</td>\n",
       "      <td>SUV</td>\n",
       "      <td>2002</td>\n",
       "      <td>3553</td>\n",
       "      <td>no</td>\n",
       "      <td>Sun</td>\n",
       "      <td>Brittany</td>\n",
       "      <td>Porsche</td>\n",
       "      <td>277425858</td>\n",
       "      <td>F</td>\n",
       "    </tr>\n",
       "    <tr>\n",
       "      <th>11</th>\n",
       "      <td>Hyundai Accent</td>\n",
       "      <td>hatchback</td>\n",
       "      <td>2011</td>\n",
       "      <td>7434</td>\n",
       "      <td>no</td>\n",
       "      <td>Wed</td>\n",
       "      <td>Maddy</td>\n",
       "      <td>Monte</td>\n",
       "      <td>870066354</td>\n",
       "      <td>M</td>\n",
       "    </tr>\n",
       "  </tbody>\n",
       "</table>\n",
       "</div>"
      ],
      "text/plain": [
       "                 car       type  year  price finance  day    dealer customer  \\\n",
       "19  Volkswagen Jetta      sedan  2004   2235      no  Tue    Turner      Git   \n",
       "30       Honda Civic      sedan  2000   2333      no  Sat  Brittany    Allen   \n",
       "6   Volkswagen Jetta      sedan  2000   3500      no  Tue    Turner    Aaron   \n",
       "41     Jeep Wrangler        SUV  2002   3553      no  Sun  Brittany  Porsche   \n",
       "11    Hyundai Accent  hatchback  2011   7434      no  Wed     Maddy    Monte   \n",
       "\n",
       "    social_security sex  \n",
       "19        995358322   M  \n",
       "30        134642443   M  \n",
       "6         557275923   M  \n",
       "41        277425858   F  \n",
       "11        870066354   M  "
      ]
     },
     "execution_count": 27,
     "metadata": {},
     "output_type": "execute_result"
    }
   ],
   "source": [
    "df_car.sort_values(['price','year']).head()"
   ]
  },
  {
   "cell_type": "code",
   "execution_count": 28,
   "id": "889607fd-e1c2-4fe6-993a-44f7e8e091b0",
   "metadata": {},
   "outputs": [
    {
     "data": {
      "text/plain": [
       "(232000, 2235)"
      ]
     },
     "execution_count": 28,
     "metadata": {},
     "output_type": "execute_result"
    }
   ],
   "source": [
    "#Min and max\n",
    "\n",
    "df_car['price'].max() , df_car['price'].min()"
   ]
  },
  {
   "cell_type": "code",
   "execution_count": 29,
   "id": "bc6bfa1a-5cf3-4b99-b755-58663ab2703d",
   "metadata": {},
   "outputs": [
    {
     "data": {
      "text/plain": [
       "44"
      ]
     },
     "execution_count": 29,
     "metadata": {},
     "output_type": "execute_result"
    }
   ],
   "source": [
    "#getting index of max value\n",
    "index = df_car['price'].idxmax()\n",
    "index"
   ]
  },
  {
   "cell_type": "code",
   "execution_count": 30,
   "id": "74531424-7601-46fe-9b39-a18b58612b08",
   "metadata": {},
   "outputs": [
    {
     "data": {
      "text/plain": [
       "car                Bentley Bentayga\n",
       "type                            SUV\n",
       "year                           2020\n",
       "price                        232000\n",
       "finance                          no\n",
       "day                             Wed\n",
       "dealer                         Mike\n",
       "customer                  Gabrielle\n",
       "social_security           885353455\n",
       "sex                               F\n",
       "Name: 44, dtype: object"
      ]
     },
     "execution_count": 30,
     "metadata": {},
     "output_type": "execute_result"
    }
   ],
   "source": [
    "df_car.iloc[44]    #iloc stands for INDEX LOCATION give information about the values at index 44\n",
    "#important we can use loc instead of iloc and provide the index name to get that row"
   ]
  },
  {
   "cell_type": "markdown",
   "id": "cdb65cde-dd56-481e-91be-1ea9e287577e",
   "metadata": {},
   "source": [
    "###  value_counts conunt various values counts for each type"
   ]
  },
  {
   "cell_type": "code",
   "execution_count": 31,
   "id": "3e22030b-5389-4e53-bf5e-dd510502b24c",
   "metadata": {},
   "outputs": [
    {
     "data": {
      "text/plain": [
       "sex\n",
       "M    26\n",
       "F    19\n",
       "Name: count, dtype: int64"
      ]
     },
     "execution_count": 31,
     "metadata": {},
     "output_type": "execute_result"
    }
   ],
   "source": [
    "df_car['sex'].value_counts()   #count each values "
   ]
  },
  {
   "cell_type": "markdown",
   "id": "81fe1ba2-9d4c-49f2-9723-61c2d4f208c1",
   "metadata": {},
   "source": [
    "### .replace()  it replace is we can seee"
   ]
  },
  {
   "cell_type": "code",
   "execution_count": 29,
   "id": "c9ecffe8-2cbf-4e65-808b-352043d64256",
   "metadata": {},
   "outputs": [
    {
     "data": {
      "text/plain": [
       "0     Male\n",
       "1        F\n",
       "2     Male\n",
       "3        F\n",
       "4     Male\n",
       "5        F\n",
       "6     Male\n",
       "7        F\n",
       "8     Male\n",
       "9        F\n",
       "10       F\n",
       "11    Male\n",
       "12       F\n",
       "13    Male\n",
       "14    Male\n",
       "15       F\n",
       "16       F\n",
       "17    Male\n",
       "18       F\n",
       "19    Male\n",
       "20    Male\n",
       "21    Male\n",
       "22    Male\n",
       "23    Male\n",
       "24    Male\n",
       "25       F\n",
       "26       F\n",
       "27       F\n",
       "28    Male\n",
       "29    Male\n",
       "30    Male\n",
       "31       F\n",
       "32    Male\n",
       "33    Male\n",
       "34       F\n",
       "35    Male\n",
       "36    Male\n",
       "37    Male\n",
       "38    Male\n",
       "39    Male\n",
       "40       F\n",
       "41       F\n",
       "42    Male\n",
       "43       F\n",
       "44       F\n",
       "Name: sex, dtype: object"
      ]
     },
     "execution_count": 29,
     "metadata": {},
     "output_type": "execute_result"
    }
   ],
   "source": [
    "df_car['sex'].replace(to_replace='M', value='Male')"
   ]
  },
  {
   "cell_type": "markdown",
   "id": "369b38ff-7a34-484c-a66c-7804f575dc47",
   "metadata": {},
   "source": [
    "### .duplicated()   tells if any record is duplicate"
   ]
  },
  {
   "cell_type": "code",
   "execution_count": 30,
   "id": "6baacdc4-7b80-4f7d-b055-44b5aa7fd333",
   "metadata": {},
   "outputs": [
    {
     "data": {
      "text/plain": [
       "0     False\n",
       "1     False\n",
       "2     False\n",
       "3     False\n",
       "4     False\n",
       "5     False\n",
       "6     False\n",
       "7     False\n",
       "8     False\n",
       "9     False\n",
       "10    False\n",
       "11    False\n",
       "12    False\n",
       "13    False\n",
       "14    False\n",
       "15    False\n",
       "16    False\n",
       "17    False\n",
       "18    False\n",
       "19    False\n",
       "20    False\n",
       "21    False\n",
       "22    False\n",
       "23    False\n",
       "24    False\n",
       "25    False\n",
       "26    False\n",
       "27    False\n",
       "28    False\n",
       "29    False\n",
       "30    False\n",
       "31    False\n",
       "32    False\n",
       "33    False\n",
       "34    False\n",
       "35     True\n",
       "36    False\n",
       "37    False\n",
       "38     True\n",
       "39    False\n",
       "40    False\n",
       "41    False\n",
       "42    False\n",
       "43    False\n",
       "44    False\n",
       "dtype: bool"
      ]
     },
     "execution_count": 30,
     "metadata": {},
     "output_type": "execute_result"
    }
   ],
   "source": [
    "df_car.duplicated()"
   ]
  },
  {
   "cell_type": "code",
   "execution_count": 31,
   "id": "855446a7-d0f3-4aea-8ffa-a53bfe67b4d6",
   "metadata": {},
   "outputs": [
    {
     "data": {
      "text/html": [
       "<div>\n",
       "<style scoped>\n",
       "    .dataframe tbody tr th:only-of-type {\n",
       "        vertical-align: middle;\n",
       "    }\n",
       "\n",
       "    .dataframe tbody tr th {\n",
       "        vertical-align: top;\n",
       "    }\n",
       "\n",
       "    .dataframe thead th {\n",
       "        text-align: right;\n",
       "    }\n",
       "</style>\n",
       "<table border=\"1\" class=\"dataframe\">\n",
       "  <thead>\n",
       "    <tr style=\"text-align: right;\">\n",
       "      <th></th>\n",
       "      <th>car</th>\n",
       "      <th>type</th>\n",
       "      <th>year</th>\n",
       "      <th>price</th>\n",
       "      <th>finance</th>\n",
       "      <th>day</th>\n",
       "      <th>dealer</th>\n",
       "      <th>customer</th>\n",
       "      <th>social_security</th>\n",
       "      <th>sex</th>\n",
       "      <th>total_price</th>\n",
       "    </tr>\n",
       "  </thead>\n",
       "  <tbody>\n",
       "    <tr>\n",
       "      <th>35</th>\n",
       "      <td>Jeep Wrangler</td>\n",
       "      <td>SUV</td>\n",
       "      <td>2021</td>\n",
       "      <td>43553</td>\n",
       "      <td>yes</td>\n",
       "      <td>Fri</td>\n",
       "      <td>Mike</td>\n",
       "      <td>Don</td>\n",
       "      <td>277425852</td>\n",
       "      <td>M</td>\n",
       "      <td>48779.0</td>\n",
       "    </tr>\n",
       "    <tr>\n",
       "      <th>38</th>\n",
       "      <td>Hyundai Accent</td>\n",
       "      <td>hatchback</td>\n",
       "      <td>2015</td>\n",
       "      <td>13434</td>\n",
       "      <td>yes</td>\n",
       "      <td>Thurs</td>\n",
       "      <td>Brittany</td>\n",
       "      <td>Don</td>\n",
       "      <td>277425852</td>\n",
       "      <td>M</td>\n",
       "      <td>15046.0</td>\n",
       "    </tr>\n",
       "  </tbody>\n",
       "</table>\n",
       "</div>"
      ],
      "text/plain": [
       "               car       type  year  price finance    day    dealer customer  \\\n",
       "35   Jeep Wrangler        SUV  2021  43553     yes    Fri      Mike      Don   \n",
       "38  Hyundai Accent  hatchback  2015  13434     yes  Thurs  Brittany      Don   \n",
       "\n",
       "    social_security sex  total_price  \n",
       "35        277425852   M      48779.0  \n",
       "38        277425852   M      15046.0  "
      ]
     },
     "execution_count": 31,
     "metadata": {},
     "output_type": "execute_result"
    }
   ],
   "source": [
    "df_car[df_car.duplicated()]"
   ]
  },
  {
   "cell_type": "code",
   "execution_count": 32,
   "id": "7a8c99d7-4e1e-4681-9ef8-01cf4ff03c8c",
   "metadata": {},
   "outputs": [
    {
     "data": {
      "text/html": [
       "<div>\n",
       "<style scoped>\n",
       "    .dataframe tbody tr th:only-of-type {\n",
       "        vertical-align: middle;\n",
       "    }\n",
       "\n",
       "    .dataframe tbody tr th {\n",
       "        vertical-align: top;\n",
       "    }\n",
       "\n",
       "    .dataframe thead th {\n",
       "        text-align: right;\n",
       "    }\n",
       "</style>\n",
       "<table border=\"1\" class=\"dataframe\">\n",
       "  <thead>\n",
       "    <tr style=\"text-align: right;\">\n",
       "      <th></th>\n",
       "      <th>car</th>\n",
       "      <th>type</th>\n",
       "      <th>year</th>\n",
       "      <th>price</th>\n",
       "      <th>finance</th>\n",
       "      <th>day</th>\n",
       "      <th>dealer</th>\n",
       "      <th>customer</th>\n",
       "      <th>social_security</th>\n",
       "      <th>sex</th>\n",
       "      <th>total_price</th>\n",
       "    </tr>\n",
       "  </thead>\n",
       "  <tbody>\n",
       "    <tr>\n",
       "      <th>8</th>\n",
       "      <td>Jeep Wrangler</td>\n",
       "      <td>SUV</td>\n",
       "      <td>2017</td>\n",
       "      <td>33553</td>\n",
       "      <td>yes</td>\n",
       "      <td>Fri</td>\n",
       "      <td>Mike</td>\n",
       "      <td>Sam</td>\n",
       "      <td>877425852</td>\n",
       "      <td>M</td>\n",
       "      <td>37579.0</td>\n",
       "    </tr>\n",
       "    <tr>\n",
       "      <th>23</th>\n",
       "      <td>Jeep Wrangler</td>\n",
       "      <td>SUV</td>\n",
       "      <td>2021</td>\n",
       "      <td>43553</td>\n",
       "      <td>yes</td>\n",
       "      <td>Fri</td>\n",
       "      <td>Mike</td>\n",
       "      <td>Don</td>\n",
       "      <td>277425852</td>\n",
       "      <td>M</td>\n",
       "      <td>48779.0</td>\n",
       "    </tr>\n",
       "    <tr>\n",
       "      <th>35</th>\n",
       "      <td>Jeep Wrangler</td>\n",
       "      <td>SUV</td>\n",
       "      <td>2021</td>\n",
       "      <td>43553</td>\n",
       "      <td>yes</td>\n",
       "      <td>Fri</td>\n",
       "      <td>Mike</td>\n",
       "      <td>Don</td>\n",
       "      <td>277425852</td>\n",
       "      <td>M</td>\n",
       "      <td>48779.0</td>\n",
       "    </tr>\n",
       "    <tr>\n",
       "      <th>41</th>\n",
       "      <td>Jeep Wrangler</td>\n",
       "      <td>SUV</td>\n",
       "      <td>2002</td>\n",
       "      <td>3553</td>\n",
       "      <td>no</td>\n",
       "      <td>Sun</td>\n",
       "      <td>Brittany</td>\n",
       "      <td>Porsche</td>\n",
       "      <td>277425858</td>\n",
       "      <td>F</td>\n",
       "      <td>3979.0</td>\n",
       "    </tr>\n",
       "  </tbody>\n",
       "</table>\n",
       "</div>"
      ],
      "text/plain": [
       "              car type  year  price finance  day    dealer customer  \\\n",
       "8   Jeep Wrangler  SUV  2017  33553     yes  Fri      Mike      Sam   \n",
       "23  Jeep Wrangler  SUV  2021  43553     yes  Fri      Mike      Don   \n",
       "35  Jeep Wrangler  SUV  2021  43553     yes  Fri      Mike      Don   \n",
       "41  Jeep Wrangler  SUV  2002   3553      no  Sun  Brittany  Porsche   \n",
       "\n",
       "    social_security sex  total_price  \n",
       "8         877425852   M      37579.0  \n",
       "23        277425852   M      48779.0  \n",
       "35        277425852   M      48779.0  \n",
       "41        277425858   F       3979.0  "
      ]
     },
     "execution_count": 32,
     "metadata": {},
     "output_type": "execute_result"
    }
   ],
   "source": [
    "df_car[df_car['car']=='Jeep Wrangler']  # we can see that there are two row in below output which are same similarly for hyndai accent it will be similarly same"
   ]
  },
  {
   "cell_type": "markdown",
   "id": "f93485f1-63bd-4ca9-889b-c6078b8abef2",
   "metadata": {},
   "source": [
    "### .unique()   "
   ]
  },
  {
   "cell_type": "code",
   "execution_count": 33,
   "id": "75ce5ced-ea33-436e-ae0d-779d1299b6cf",
   "metadata": {},
   "outputs": [
    {
     "data": {
      "text/plain": [
       "array(['Mercedes-Benz A-Class', 'Audi A6', 'Nissan Altima',\n",
       "       'Chevrolet Equinox', 'Hyundai Accent', 'Porsche Cayenne',\n",
       "       'Volkswagen Jetta', 'Jeep Wrangler', 'BMW M8', 'Toyota 4Runner',\n",
       "       'Jaguar XF', 'Honda Civic', 'Ford Maverick', 'Genesis GV80',\n",
       "       'Maserati Levante', 'Chevrolet Camaro', 'Porsche 911',\n",
       "       'Cadillac Escalade', 'Bentley Bentayga'], dtype=object)"
      ]
     },
     "execution_count": 33,
     "metadata": {},
     "output_type": "execute_result"
    }
   ],
   "source": [
    "df_car['car'].unique()"
   ]
  },
  {
   "cell_type": "markdown",
   "id": "a07e9e1c-786d-4fbd-b39e-811b4b62512d",
   "metadata": {},
   "source": [
    "### nunqiue() //for counting the number of unique"
   ]
  },
  {
   "cell_type": "code",
   "execution_count": 34,
   "id": "b40fff1d-f484-466f-9749-e07c7dbffb2d",
   "metadata": {},
   "outputs": [
    {
     "data": {
      "text/plain": [
       "19"
      ]
     },
     "execution_count": 34,
     "metadata": {},
     "output_type": "execute_result"
    }
   ],
   "source": [
    "df_car['car'].nunique()"
   ]
  },
  {
   "cell_type": "markdown",
   "id": "eb735f11-f180-4c0c-bf98-4f16380a0bb1",
   "metadata": {},
   "source": [
    "### .between() checks if a value lies between certain "
   ]
  },
  {
   "cell_type": "code",
   "execution_count": 35,
   "id": "82a400b2-6928-4631-8cda-0ad2318a93c7",
   "metadata": {},
   "outputs": [
    {
     "data": {
      "text/plain": [
       "0     False\n",
       "1     False\n",
       "2      True\n",
       "3     False\n",
       "4     False\n",
       "5     False\n",
       "6     False\n",
       "7     False\n",
       "8     False\n",
       "9     False\n",
       "10     True\n",
       "11    False\n",
       "12    False\n",
       "13     True\n",
       "14    False\n",
       "15    False\n",
       "16    False\n",
       "17    False\n",
       "18    False\n",
       "19    False\n",
       "20    False\n",
       "21    False\n",
       "22    False\n",
       "23    False\n",
       "24    False\n",
       "25    False\n",
       "26    False\n",
       "27    False\n",
       "28    False\n",
       "29     True\n",
       "30    False\n",
       "31    False\n",
       "32    False\n",
       "33    False\n",
       "34    False\n",
       "35    False\n",
       "36    False\n",
       "37     True\n",
       "38     True\n",
       "39    False\n",
       "40    False\n",
       "41    False\n",
       "42    False\n",
       "43    False\n",
       "44    False\n",
       "Name: price, dtype: bool"
      ]
     },
     "execution_count": 35,
     "metadata": {},
     "output_type": "execute_result"
    }
   ],
   "source": [
    "df_car['price'].between(10000,20000)"
   ]
  },
  {
   "cell_type": "markdown",
   "id": "cdae5d4d-3040-42a1-8186-3face1025142",
   "metadata": {},
   "source": [
    "### .groupby()   it is used for grouping according to values of certain columns."
   ]
  },
  {
   "cell_type": "code",
   "execution_count": 37,
   "id": "2f527610-42a7-4ece-b42f-8feabab24fec",
   "metadata": {},
   "outputs": [
    {
     "data": {
      "text/html": [
       "<div>\n",
       "<style scoped>\n",
       "    .dataframe tbody tr th:only-of-type {\n",
       "        vertical-align: middle;\n",
       "    }\n",
       "\n",
       "    .dataframe tbody tr th {\n",
       "        vertical-align: top;\n",
       "    }\n",
       "\n",
       "    .dataframe thead th {\n",
       "        text-align: right;\n",
       "    }\n",
       "</style>\n",
       "<table border=\"1\" class=\"dataframe\">\n",
       "  <thead>\n",
       "    <tr style=\"text-align: right;\">\n",
       "      <th></th>\n",
       "      <th>year</th>\n",
       "      <th>price</th>\n",
       "      <th>social_security</th>\n",
       "      <th>total_price</th>\n",
       "    </tr>\n",
       "    <tr>\n",
       "      <th>dealer</th>\n",
       "      <th></th>\n",
       "      <th></th>\n",
       "      <th></th>\n",
       "      <th></th>\n",
       "    </tr>\n",
       "  </thead>\n",
       "  <tbody>\n",
       "    <tr>\n",
       "      <th>Brittany</th>\n",
       "      <td>14088</td>\n",
       "      <td>248086</td>\n",
       "      <td>1638586103</td>\n",
       "      <td>277855.0</td>\n",
       "    </tr>\n",
       "    <tr>\n",
       "      <th>Maddy</th>\n",
       "      <td>12100</td>\n",
       "      <td>363855</td>\n",
       "      <td>3046060224</td>\n",
       "      <td>407517.0</td>\n",
       "    </tr>\n",
       "    <tr>\n",
       "      <th>Mike</th>\n",
       "      <td>32303</td>\n",
       "      <td>1099353</td>\n",
       "      <td>11334531067</td>\n",
       "      <td>1231274.0</td>\n",
       "    </tr>\n",
       "    <tr>\n",
       "      <th>Sam</th>\n",
       "      <td>14126</td>\n",
       "      <td>442831</td>\n",
       "      <td>5802077519</td>\n",
       "      <td>495972.0</td>\n",
       "    </tr>\n",
       "    <tr>\n",
       "      <th>Turner</th>\n",
       "      <td>18113</td>\n",
       "      <td>292677</td>\n",
       "      <td>6790036590</td>\n",
       "      <td>327798.0</td>\n",
       "    </tr>\n",
       "  </tbody>\n",
       "</table>\n",
       "</div>"
      ],
      "text/plain": [
       "           year    price  social_security  total_price\n",
       "dealer                                                \n",
       "Brittany  14088   248086       1638586103     277855.0\n",
       "Maddy     12100   363855       3046060224     407517.0\n",
       "Mike      32303  1099353      11334531067    1231274.0\n",
       "Sam       14126   442831       5802077519     495972.0\n",
       "Turner    18113   292677       6790036590     327798.0"
      ]
     },
     "execution_count": 37,
     "metadata": {},
     "output_type": "execute_result"
    }
   ],
   "source": [
    "df_car.groupby('dealer').sum()        #sum will be done only on the number valued columns "
   ]
  },
  {
   "cell_type": "code",
   "execution_count": 38,
   "id": "9dadc1a5-156a-4a95-9fb9-99eef5f16786",
   "metadata": {},
   "outputs": [
    {
     "data": {
      "text/plain": [
       "dealer\n",
       "Brittany     248086\n",
       "Maddy        363855\n",
       "Mike        1099353\n",
       "Sam          442831\n",
       "Turner       292677\n",
       "Name: price, dtype: int64"
      ]
     },
     "execution_count": 38,
     "metadata": {},
     "output_type": "execute_result"
    }
   ],
   "source": [
    "df_car.groupby('dealer').sum()['price']         #getting only the price columns"
   ]
  },
  {
   "cell_type": "code",
   "execution_count": 44,
   "id": "798d89a9-cefa-438c-8cf6-fd1eb4f6ca79",
   "metadata": {},
   "outputs": [
    {
     "name": "stdout",
     "output_type": "stream",
     "text": [
      "Index(['Brittany', 'Maddy', 'Mike', 'Sam', 'Turner'], dtype='object', name='dealer')\n",
      "Index(['year', 'price', 'social_security', 'total_price'], dtype='object')\n"
     ]
    }
   ],
   "source": [
    "print(df_car.groupby('dealer').sum().index)     #printing the indexes\n",
    "print(df_car.groupby('dealer').sum().columns)   #printing the columns"
   ]
  },
  {
   "cell_type": "code",
   "execution_count": 45,
   "id": "4854799f-8e54-4dee-b5e4-bc95dbfc19bf",
   "metadata": {},
   "outputs": [
    {
     "data": {
      "text/html": [
       "<div>\n",
       "<style scoped>\n",
       "    .dataframe tbody tr th:only-of-type {\n",
       "        vertical-align: middle;\n",
       "    }\n",
       "\n",
       "    .dataframe tbody tr th {\n",
       "        vertical-align: top;\n",
       "    }\n",
       "\n",
       "    .dataframe thead th {\n",
       "        text-align: right;\n",
       "    }\n",
       "</style>\n",
       "<table border=\"1\" class=\"dataframe\">\n",
       "  <thead>\n",
       "    <tr style=\"text-align: right;\">\n",
       "      <th></th>\n",
       "      <th>year</th>\n",
       "      <th>price</th>\n",
       "      <th>social_security</th>\n",
       "      <th>total_price</th>\n",
       "    </tr>\n",
       "    <tr>\n",
       "      <th>dealer</th>\n",
       "      <th></th>\n",
       "      <th></th>\n",
       "      <th></th>\n",
       "      <th></th>\n",
       "    </tr>\n",
       "  </thead>\n",
       "  <tbody>\n",
       "    <tr>\n",
       "      <th>Brittany</th>\n",
       "      <td>2012.571429</td>\n",
       "      <td>35440.857143</td>\n",
       "      <td>2.340837e+08</td>\n",
       "      <td>39693.571429</td>\n",
       "    </tr>\n",
       "    <tr>\n",
       "      <th>Maddy</th>\n",
       "      <td>2016.666667</td>\n",
       "      <td>60642.500000</td>\n",
       "      <td>5.076767e+08</td>\n",
       "      <td>67919.500000</td>\n",
       "    </tr>\n",
       "    <tr>\n",
       "      <th>Mike</th>\n",
       "      <td>2018.937500</td>\n",
       "      <td>68709.562500</td>\n",
       "      <td>7.084082e+08</td>\n",
       "      <td>76954.625000</td>\n",
       "    </tr>\n",
       "    <tr>\n",
       "      <th>Sam</th>\n",
       "      <td>2018.000000</td>\n",
       "      <td>63261.571429</td>\n",
       "      <td>8.288682e+08</td>\n",
       "      <td>70853.142857</td>\n",
       "    </tr>\n",
       "    <tr>\n",
       "      <th>Turner</th>\n",
       "      <td>2012.555556</td>\n",
       "      <td>32519.666667</td>\n",
       "      <td>7.544485e+08</td>\n",
       "      <td>36422.000000</td>\n",
       "    </tr>\n",
       "  </tbody>\n",
       "</table>\n",
       "</div>"
      ],
      "text/plain": [
       "                 year         price  social_security   total_price\n",
       "dealer                                                            \n",
       "Brittany  2012.571429  35440.857143     2.340837e+08  39693.571429\n",
       "Maddy     2016.666667  60642.500000     5.076767e+08  67919.500000\n",
       "Mike      2018.937500  68709.562500     7.084082e+08  76954.625000\n",
       "Sam       2018.000000  63261.571429     8.288682e+08  70853.142857\n",
       "Turner    2012.555556  32519.666667     7.544485e+08  36422.000000"
      ]
     },
     "execution_count": 45,
     "metadata": {},
     "output_type": "execute_result"
    }
   ],
   "source": [
    "df_car.groupby('dealer').mean()  #we can have different types of aggregate functions apart from sum , mean std and all those\n",
    "#all the type  of .describe() function"
   ]
  },
  {
   "cell_type": "code",
   "execution_count": 52,
   "id": "8beef888-d192-4f34-a489-e75075de7984",
   "metadata": {},
   "outputs": [
    {
     "name": "stdout",
     "output_type": "stream",
     "text": [
      "              year          price  social_security    total_price\n",
      "count    45.000000      45.000000     4.500000e+01      45.000000\n",
      "mean   2016.222222   54373.377778     6.358065e+08   60898.133333\n",
      "std       5.603931   50910.915441     3.096242e+08   57020.208903\n",
      "min    2000.000000    2235.000000     7.006635e+07    2503.000000\n",
      "25%    2015.000000   17434.000000     3.346424e+08   19526.000000\n",
      "50%    2018.000000   43553.000000     5.795217e+08   48779.000000\n",
      "75%    2020.000000   78422.000000     9.475778e+08   87833.000000\n",
      "max    2022.000000  232000.000000     9.985735e+08  259840.000000\n",
      "          car  type  year  price  finance  day  customer  social_security  \\\n",
      "dealer                                                                      \n",
      "Brittany    7     7     7      7        7    7         7                7   \n",
      "Maddy       6     6     6      6        6    6         6                6   \n",
      "Mike       16    16    16     16       16   16        16               16   \n",
      "Sam         7     7     7      7        7    7         7                7   \n",
      "Turner      9     9     9      9        9    9         9                9   \n",
      "\n",
      "          sex  total_price  \n",
      "dealer                      \n",
      "Brittany    7            7  \n",
      "Maddy       6            6  \n",
      "Mike       16           16  \n",
      "Sam         7            7  \n",
      "Turner      9            9  \n",
      "              year         price  social_security   total_price\n",
      "dealer                                                         \n",
      "Brittany  8.303757  34902.851681     5.137446e+07  39091.113440\n",
      "Maddy     3.723797  69059.716245     3.224887e+08  77346.831231\n",
      "Mike      2.294014  54869.888459     2.768989e+08  61454.314095\n",
      "Sam       3.605551  59155.413009     2.196178e+08  66253.913644\n",
      "Turner    6.948221  27036.408744     2.604650e+08  30280.778326\n",
      "                       car   type  year  price finance  day  customer  \\\n",
      "dealer                                                                  \n",
      "Brittany           Audi A6    SUV  2000   2333      no  Sat     Allen   \n",
      "Maddy               BMW M8  coupe  2011   7434      no  Mon       Bob   \n",
      "Mike      Bentley Bentayga    SUV  2015  17500      no  Fri    Alyssa   \n",
      "Sam                Audi A6    SUV  2012   9855      no  Mon  Brittany   \n",
      "Turner    Chevrolet Camaro    SUV  2000   2235      no  Mon     Aaron   \n",
      "\n",
      "          social_security sex  total_price  \n",
      "dealer                                      \n",
      "Brittany        134642443   F       2613.0  \n",
      "Maddy            70066354   F       8326.0  \n",
      "Mike            277425852   F      19600.0  \n",
      "Sam             452685274   F      11038.0  \n",
      "Turner          342234563   F       2503.0  \n"
     ]
    }
   ],
   "source": [
    "print(df_car.describe())\n",
    "print(df_car.groupby('dealer').count()) \n",
    "print(df_car.groupby('dealer').std()) \n",
    "print(df_car.groupby('dealer').min()) "
   ]
  },
  {
   "cell_type": "code",
   "execution_count": 53,
   "id": "37414fe4-aa61-4f44-8055-f83a7adfa90c",
   "metadata": {},
   "outputs": [
    {
     "data": {
      "text/html": [
       "<div>\n",
       "<style scoped>\n",
       "    .dataframe tbody tr th:only-of-type {\n",
       "        vertical-align: middle;\n",
       "    }\n",
       "\n",
       "    .dataframe tbody tr th {\n",
       "        vertical-align: top;\n",
       "    }\n",
       "\n",
       "    .dataframe thead th {\n",
       "        text-align: right;\n",
       "    }\n",
       "</style>\n",
       "<table border=\"1\" class=\"dataframe\">\n",
       "  <thead>\n",
       "    <tr style=\"text-align: right;\">\n",
       "      <th></th>\n",
       "      <th></th>\n",
       "      <th>price</th>\n",
       "      <th>social_security</th>\n",
       "      <th>total_price</th>\n",
       "    </tr>\n",
       "    <tr>\n",
       "      <th>dealer</th>\n",
       "      <th>year</th>\n",
       "      <th></th>\n",
       "      <th></th>\n",
       "      <th></th>\n",
       "    </tr>\n",
       "  </thead>\n",
       "  <tbody>\n",
       "    <tr>\n",
       "      <th rowspan=\"5\" valign=\"top\">Brittany</th>\n",
       "      <th>2000</th>\n",
       "      <td>2333</td>\n",
       "      <td>134642443</td>\n",
       "      <td>2613.0</td>\n",
       "    </tr>\n",
       "    <tr>\n",
       "      <th>2002</th>\n",
       "      <td>3553</td>\n",
       "      <td>277425858</td>\n",
       "      <td>3979.0</td>\n",
       "    </tr>\n",
       "    <tr>\n",
       "      <th>2015</th>\n",
       "      <td>85312</td>\n",
       "      <td>778707070</td>\n",
       "      <td>95549.0</td>\n",
       "    </tr>\n",
       "    <tr>\n",
       "      <th>2020</th>\n",
       "      <td>78444</td>\n",
       "      <td>223955366</td>\n",
       "      <td>87857.0</td>\n",
       "    </tr>\n",
       "    <tr>\n",
       "      <th>2021</th>\n",
       "      <td>78444</td>\n",
       "      <td>223855366</td>\n",
       "      <td>87857.0</td>\n",
       "    </tr>\n",
       "    <tr>\n",
       "      <th rowspan=\"5\" valign=\"top\">Maddy</th>\n",
       "      <th>2011</th>\n",
       "      <td>7434</td>\n",
       "      <td>870066354</td>\n",
       "      <td>8326.0</td>\n",
       "    </tr>\n",
       "    <tr>\n",
       "      <th>2014</th>\n",
       "      <td>17434</td>\n",
       "      <td>870566354</td>\n",
       "      <td>19526.0</td>\n",
       "    </tr>\n",
       "    <tr>\n",
       "      <th>2017</th>\n",
       "      <td>40434</td>\n",
       "      <td>640632708</td>\n",
       "      <td>45286.0</td>\n",
       "    </tr>\n",
       "    <tr>\n",
       "      <th>2020</th>\n",
       "      <td>140553</td>\n",
       "      <td>326234886</td>\n",
       "      <td>157419.0</td>\n",
       "    </tr>\n",
       "    <tr>\n",
       "      <th>2021</th>\n",
       "      <td>158000</td>\n",
       "      <td>338559922</td>\n",
       "      <td>176960.0</td>\n",
       "    </tr>\n",
       "    <tr>\n",
       "      <th rowspan=\"8\" valign=\"top\">Mike</th>\n",
       "      <th>2015</th>\n",
       "      <td>42953</td>\n",
       "      <td>1578095160</td>\n",
       "      <td>48107.0</td>\n",
       "    </tr>\n",
       "    <tr>\n",
       "      <th>2016</th>\n",
       "      <td>23998</td>\n",
       "      <td>947577792</td>\n",
       "      <td>26878.0</td>\n",
       "    </tr>\n",
       "    <tr>\n",
       "      <th>2017</th>\n",
       "      <td>119027</td>\n",
       "      <td>1762863307</td>\n",
       "      <td>133310.0</td>\n",
       "    </tr>\n",
       "    <tr>\n",
       "      <th>2018</th>\n",
       "      <td>22333</td>\n",
       "      <td>334642443</td>\n",
       "      <td>25013.0</td>\n",
       "    </tr>\n",
       "    <tr>\n",
       "      <th>2019</th>\n",
       "      <td>39000</td>\n",
       "      <td>555342396</td>\n",
       "      <td>43680.0</td>\n",
       "    </tr>\n",
       "    <tr>\n",
       "      <th>2020</th>\n",
       "      <td>548492</td>\n",
       "      <td>3176076538</td>\n",
       "      <td>614311.0</td>\n",
       "    </tr>\n",
       "    <tr>\n",
       "      <th>2021</th>\n",
       "      <td>249550</td>\n",
       "      <td>2517558088</td>\n",
       "      <td>279495.0</td>\n",
       "    </tr>\n",
       "    <tr>\n",
       "      <th>2022</th>\n",
       "      <td>54000</td>\n",
       "      <td>462375343</td>\n",
       "      <td>60480.0</td>\n",
       "    </tr>\n",
       "    <tr>\n",
       "      <th rowspan=\"5\" valign=\"top\">Sam</th>\n",
       "      <th>2012</th>\n",
       "      <td>9855</td>\n",
       "      <td>885354544</td>\n",
       "      <td>11038.0</td>\n",
       "    </tr>\n",
       "    <tr>\n",
       "      <th>2014</th>\n",
       "      <td>25356</td>\n",
       "      <td>995538822</td>\n",
       "      <td>28399.0</td>\n",
       "    </tr>\n",
       "    <tr>\n",
       "      <th>2018</th>\n",
       "      <td>27433</td>\n",
       "      <td>588845355</td>\n",
       "      <td>30725.0</td>\n",
       "    </tr>\n",
       "    <tr>\n",
       "      <th>2020</th>\n",
       "      <td>126844</td>\n",
       "      <td>1991887290</td>\n",
       "      <td>142066.0</td>\n",
       "    </tr>\n",
       "    <tr>\n",
       "      <th>2021</th>\n",
       "      <td>253343</td>\n",
       "      <td>1340451508</td>\n",
       "      <td>283744.0</td>\n",
       "    </tr>\n",
       "    <tr>\n",
       "      <th rowspan=\"8\" valign=\"top\">Turner</th>\n",
       "      <th>2000</th>\n",
       "      <td>3500</td>\n",
       "      <td>557275923</td>\n",
       "      <td>3920.0</td>\n",
       "    </tr>\n",
       "    <tr>\n",
       "      <th>2004</th>\n",
       "      <td>2235</td>\n",
       "      <td>995358322</td>\n",
       "      <td>2503.0</td>\n",
       "    </tr>\n",
       "    <tr>\n",
       "      <th>2010</th>\n",
       "      <td>10983</td>\n",
       "      <td>994853335</td>\n",
       "      <td>12301.0</td>\n",
       "    </tr>\n",
       "    <tr>\n",
       "      <th>2013</th>\n",
       "      <td>45633</td>\n",
       "      <td>851079918</td>\n",
       "      <td>51109.0</td>\n",
       "    </tr>\n",
       "    <tr>\n",
       "      <th>2015</th>\n",
       "      <td>52000</td>\n",
       "      <td>958258639</td>\n",
       "      <td>58240.0</td>\n",
       "    </tr>\n",
       "    <tr>\n",
       "      <th>2018</th>\n",
       "      <td>76550</td>\n",
       "      <td>552422222</td>\n",
       "      <td>85736.0</td>\n",
       "    </tr>\n",
       "    <tr>\n",
       "      <th>2019</th>\n",
       "      <td>57744</td>\n",
       "      <td>884352886</td>\n",
       "      <td>64673.0</td>\n",
       "    </tr>\n",
       "    <tr>\n",
       "      <th>2021</th>\n",
       "      <td>44032</td>\n",
       "      <td>996435345</td>\n",
       "      <td>49316.0</td>\n",
       "    </tr>\n",
       "  </tbody>\n",
       "</table>\n",
       "</div>"
      ],
      "text/plain": [
       "                price  social_security  total_price\n",
       "dealer   year                                      \n",
       "Brittany 2000    2333        134642443       2613.0\n",
       "         2002    3553        277425858       3979.0\n",
       "         2015   85312        778707070      95549.0\n",
       "         2020   78444        223955366      87857.0\n",
       "         2021   78444        223855366      87857.0\n",
       "Maddy    2011    7434        870066354       8326.0\n",
       "         2014   17434        870566354      19526.0\n",
       "         2017   40434        640632708      45286.0\n",
       "         2020  140553        326234886     157419.0\n",
       "         2021  158000        338559922     176960.0\n",
       "Mike     2015   42953       1578095160      48107.0\n",
       "         2016   23998        947577792      26878.0\n",
       "         2017  119027       1762863307     133310.0\n",
       "         2018   22333        334642443      25013.0\n",
       "         2019   39000        555342396      43680.0\n",
       "         2020  548492       3176076538     614311.0\n",
       "         2021  249550       2517558088     279495.0\n",
       "         2022   54000        462375343      60480.0\n",
       "Sam      2012    9855        885354544      11038.0\n",
       "         2014   25356        995538822      28399.0\n",
       "         2018   27433        588845355      30725.0\n",
       "         2020  126844       1991887290     142066.0\n",
       "         2021  253343       1340451508     283744.0\n",
       "Turner   2000    3500        557275923       3920.0\n",
       "         2004    2235        995358322       2503.0\n",
       "         2010   10983        994853335      12301.0\n",
       "         2013   45633        851079918      51109.0\n",
       "         2015   52000        958258639      58240.0\n",
       "         2018   76550        552422222      85736.0\n",
       "         2019   57744        884352886      64673.0\n",
       "         2021   44032        996435345      49316.0"
      ]
     },
     "execution_count": 53,
     "metadata": {},
     "output_type": "execute_result"
    }
   ],
   "source": [
    "#we can also aggregate by more than one values so what it does is first it aggregate using the first type and then using the second aggregation type\n",
    "#eg.\n",
    "df_car.groupby(['dealer','year']).sum()"
   ]
  },
  {
   "cell_type": "code",
   "execution_count": 32,
   "id": "80fe3c23-c9c3-487f-b81f-a840870613c3",
   "metadata": {},
   "outputs": [
    {
     "data": {
      "text/plain": [
       "MultiIndex([('Brittany', 2000),\n",
       "            ('Brittany', 2002),\n",
       "            ('Brittany', 2015),\n",
       "            ('Brittany', 2020),\n",
       "            ('Brittany', 2021),\n",
       "            (   'Maddy', 2011),\n",
       "            (   'Maddy', 2014),\n",
       "            (   'Maddy', 2017),\n",
       "            (   'Maddy', 2020),\n",
       "            (   'Maddy', 2021),\n",
       "            (    'Mike', 2015),\n",
       "            (    'Mike', 2016),\n",
       "            (    'Mike', 2017),\n",
       "            (    'Mike', 2018),\n",
       "            (    'Mike', 2019),\n",
       "            (    'Mike', 2020),\n",
       "            (    'Mike', 2021),\n",
       "            (    'Mike', 2022),\n",
       "            (     'Sam', 2012),\n",
       "            (     'Sam', 2014),\n",
       "            (     'Sam', 2018),\n",
       "            (     'Sam', 2020),\n",
       "            (     'Sam', 2021),\n",
       "            (  'Turner', 2000),\n",
       "            (  'Turner', 2004),\n",
       "            (  'Turner', 2010),\n",
       "            (  'Turner', 2013),\n",
       "            (  'Turner', 2015),\n",
       "            (  'Turner', 2018),\n",
       "            (  'Turner', 2019),\n",
       "            (  'Turner', 2021)],\n",
       "           names=['dealer', 'year'])"
      ]
     },
     "execution_count": 32,
     "metadata": {},
     "output_type": "execute_result"
    }
   ],
   "source": [
    "#so in above case there are mutli index i.e dealer and year \n",
    "df_car.groupby(['dealer','year']).sum().index"
   ]
  },
  {
   "cell_type": "code",
   "execution_count": 68,
   "id": "75fbe67c-15b7-4e0f-aa74-0abe538f2e2b",
   "metadata": {},
   "outputs": [
    {
     "data": {
      "text/plain": [
       "price              4.295300e+04\n",
       "social_security    1.578095e+09\n",
       "total_price        4.810700e+04\n",
       "Name: (Mike, 2015), dtype: float64"
      ]
     },
     "execution_count": 68,
     "metadata": {},
     "output_type": "execute_result"
    }
   ],
   "source": [
    "dealer_df = df_car.groupby(['dealer','year']).sum()\n",
    "dealer_df.loc['Mike']           #getting values of particular index\n",
    "dealer_df.loc[['Mike','Brittany']]        #for getting mike and brittany rows both\n",
    "\n",
    "dealer_df.loc[('Mike',2015)]    #for getting row values using both the index dealer and year        "
   ]
  },
  {
   "cell_type": "markdown",
   "id": "24f5cbae-7142-471c-a427-93c71a6dd9e3",
   "metadata": {},
   "source": [
    "##### .loc vs .iloc , both are used to print the rows, loc uses the row name for printing the row, whereas iloc uses the row number to print the row"
   ]
  },
  {
   "cell_type": "code",
   "execution_count": null,
   "id": "8df82ad5-439a-4b5d-bd46-dfc31b3c74e3",
   "metadata": {},
   "outputs": [],
   "source": []
  }
 ],
 "metadata": {
  "kernelspec": {
   "display_name": "Python 3 (ipykernel)",
   "language": "python",
   "name": "python3"
  },
  "language_info": {
   "codemirror_mode": {
    "name": "ipython",
    "version": 3
   },
   "file_extension": ".py",
   "mimetype": "text/x-python",
   "name": "python",
   "nbconvert_exporter": "python",
   "pygments_lexer": "ipython3",
   "version": "3.10.8"
  }
 },
 "nbformat": 4,
 "nbformat_minor": 5
}
