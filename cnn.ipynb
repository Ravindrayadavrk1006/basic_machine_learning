{
 "cells": [
  {
   "cell_type": "code",
   "execution_count": 2,
   "id": "e865379a-0188-4f14-9c19-2cd62ba6c06d",
   "metadata": {},
   "outputs": [],
   "source": [
    "import tensorflow as tf"
   ]
  },
  {
   "cell_type": "code",
   "execution_count": 3,
   "id": "a02d9857-bb9c-4cd4-9eaa-c1f8ea51e97f",
   "metadata": {},
   "outputs": [],
   "source": [
    "from tensorflow.keras import datasets, layers, models"
   ]
  },
  {
   "cell_type": "code",
   "execution_count": 4,
   "id": "ad5b27b8-645c-469a-bb07-d3e1c688ea36",
   "metadata": {},
   "outputs": [],
   "source": [
    "import matplotlib.pyplot as plt"
   ]
  },
  {
   "cell_type": "code",
   "execution_count": 5,
   "id": "2beddf13-b6e3-4bc6-8f95-f808fc0ead55",
   "metadata": {},
   "outputs": [],
   "source": [
    "import numpy as np"
   ]
  },
  {
   "cell_type": "code",
   "execution_count": 6,
   "id": "ea3f9f35-ae89-4702-a012-dd0573359fcf",
   "metadata": {},
   "outputs": [
    {
     "name": "stdout",
     "output_type": "stream",
     "text": [
      "Downloading data from https://www.cs.toronto.edu/~kriz/cifar-10-python.tar.gz\n",
      " 17301504/170498071 [==>...........................] - ETA: 2:32:29"
     ]
    },
    {
     "name": "stderr",
     "output_type": "stream",
     "text": [
      "\n",
      "KeyboardInterrupt\n",
      "\n"
     ]
    }
   ],
   "source": [
    "(x_train, y_train),(x_test, y_test) = datasets.cifar10.load_data()"
   ]
  },
  {
   "cell_type": "code",
   "execution_count": 7,
   "id": "c9ff045c-1fdc-4ad1-94f2-b5371027b47d",
   "metadata": {},
   "outputs": [],
   "source": [
    "import pandas as pd"
   ]
  },
  {
   "cell_type": "code",
   "execution_count": 8,
   "id": "c5d2724f-6883-458a-a277-202fbfb96de1",
   "metadata": {},
   "outputs": [],
   "source": [
    "df = pd.read_csv('./dataset_pokemon/pokemon.csv')"
   ]
  },
  {
   "cell_type": "code",
   "execution_count": 9,
   "id": "fc68a55c-cee5-49ea-808f-feaa079d11b4",
   "metadata": {},
   "outputs": [
    {
     "data": {
      "text/html": [
       "<div>\n",
       "<style scoped>\n",
       "    .dataframe tbody tr th:only-of-type {\n",
       "        vertical-align: middle;\n",
       "    }\n",
       "\n",
       "    .dataframe tbody tr th {\n",
       "        vertical-align: top;\n",
       "    }\n",
       "\n",
       "    .dataframe thead th {\n",
       "        text-align: right;\n",
       "    }\n",
       "</style>\n",
       "<table border=\"1\" class=\"dataframe\">\n",
       "  <thead>\n",
       "    <tr style=\"text-align: right;\">\n",
       "      <th></th>\n",
       "      <th>Name</th>\n",
       "      <th>Type1</th>\n",
       "      <th>Type2</th>\n",
       "    </tr>\n",
       "  </thead>\n",
       "  <tbody>\n",
       "    <tr>\n",
       "      <th>0</th>\n",
       "      <td>bulbasaur</td>\n",
       "      <td>Grass</td>\n",
       "      <td>Poison</td>\n",
       "    </tr>\n",
       "    <tr>\n",
       "      <th>1</th>\n",
       "      <td>ivysaur</td>\n",
       "      <td>Grass</td>\n",
       "      <td>Poison</td>\n",
       "    </tr>\n",
       "    <tr>\n",
       "      <th>2</th>\n",
       "      <td>venusaur</td>\n",
       "      <td>Grass</td>\n",
       "      <td>Poison</td>\n",
       "    </tr>\n",
       "    <tr>\n",
       "      <th>3</th>\n",
       "      <td>charmander</td>\n",
       "      <td>Fire</td>\n",
       "      <td>NaN</td>\n",
       "    </tr>\n",
       "    <tr>\n",
       "      <th>4</th>\n",
       "      <td>charmeleon</td>\n",
       "      <td>Fire</td>\n",
       "      <td>NaN</td>\n",
       "    </tr>\n",
       "  </tbody>\n",
       "</table>\n",
       "</div>"
      ],
      "text/plain": [
       "         Name  Type1   Type2\n",
       "0   bulbasaur  Grass  Poison\n",
       "1     ivysaur  Grass  Poison\n",
       "2    venusaur  Grass  Poison\n",
       "3  charmander   Fire     NaN\n",
       "4  charmeleon   Fire     NaN"
      ]
     },
     "execution_count": 9,
     "metadata": {},
     "output_type": "execute_result"
    }
   ],
   "source": [
    "df.head()"
   ]
  },
  {
   "cell_type": "code",
   "execution_count": 13,
   "id": "69ecad6b-169d-4096-8582-94aa75bbcdfd",
   "metadata": {},
   "outputs": [
    {
     "data": {
      "text/plain": [
       "404"
      ]
     },
     "execution_count": 13,
     "metadata": {},
     "output_type": "execute_result"
    }
   ],
   "source": [
    "df['Type2'].isna().sum()"
   ]
  },
  {
   "cell_type": "code",
   "execution_count": 15,
   "id": "0d74705c-fce3-4461-96ae-9726a781b965",
   "metadata": {},
   "outputs": [
    {
     "data": {
      "text/plain": [
       "18"
      ]
     },
     "execution_count": 15,
     "metadata": {},
     "output_type": "execute_result"
    }
   ],
   "source": [
    "df['Type1'].nunique()"
   ]
  },
  {
   "cell_type": "code",
   "execution_count": 17,
   "id": "66adbd26-f2b1-4c67-b951-14ed0179c149",
   "metadata": {},
   "outputs": [
    {
     "data": {
      "text/plain": [
       "array(['Grass', 'Fire', 'Water', 'Bug', 'Normal', 'Poison', 'Electric',\n",
       "       'Ground', 'Fairy', 'Fighting', 'Psychic', 'Rock', 'Ghost', 'Ice',\n",
       "       'Dragon', 'Dark', 'Steel', 'Flying'], dtype=object)"
      ]
     },
     "execution_count": 17,
     "metadata": {},
     "output_type": "execute_result"
    }
   ],
   "source": [
    "df['Type1'].unique()"
   ]
  },
  {
   "cell_type": "code",
   "execution_count": 19,
   "id": "b923cff0-c9e5-4dec-8f47-4ac723443e97",
   "metadata": {},
   "outputs": [
    {
     "data": {
      "text/plain": [
       "18"
      ]
     },
     "execution_count": 19,
     "metadata": {},
     "output_type": "execute_result"
    }
   ],
   "source": [
    "len(df['Type1'].unique())"
   ]
  },
  {
   "cell_type": "code",
   "execution_count": 28,
   "id": "8dd1f4af-e921-4dc4-956d-e09420c0f9fb",
   "metadata": {},
   "outputs": [],
   "source": [
    "from sklearn.preprocessing import MinMaxScaler, LabelEncoder"
   ]
  },
  {
   "cell_type": "code",
   "execution_count": 25,
   "id": "957ae96b-8382-46cd-99e8-3cb84ab64f4b",
   "metadata": {},
   "outputs": [
    {
     "data": {
      "text/plain": [
       "0         Grass\n",
       "1         Grass\n",
       "2         Grass\n",
       "3          Fire\n",
       "4          Fire\n",
       "         ...   \n",
       "804        Rock\n",
       "805        Fire\n",
       "806    Electric\n",
       "807       Steel\n",
       "808       Steel\n",
       "Name: Type1, Length: 809, dtype: object"
      ]
     },
     "execution_count": 25,
     "metadata": {},
     "output_type": "execute_result"
    }
   ],
   "source": [
    "\n",
    "unscaled_values = df['Type1']\n",
    "unscaled_values"
   ]
  },
  {
   "cell_type": "code",
   "execution_count": 24,
   "id": "f3e1e705-308c-4731-a80b-aef7c6adf556",
   "metadata": {},
   "outputs": [],
   "source": [
    "scaler = MinMaxScaler()"
   ]
  },
  {
   "cell_type": "code",
   "execution_count": 46,
   "id": "9c869691-f07c-464f-ab0a-a4937115da2e",
   "metadata": {},
   "outputs": [
    {
     "data": {
      "text/plain": [
       "array([ 9,  9,  9,  6,  6,  6, 17, 17, 17,  0,  0,  0,  0,  0,  0, 12, 12,\n",
       "       12, 12, 12, 12, 12, 13, 13,  3,  3, 10, 10, 13, 13, 13, 13, 13, 13,\n",
       "        4,  4,  6,  6, 12, 12, 13, 13,  9,  9,  9,  0,  0,  0,  0, 10, 10,\n",
       "       12, 12, 17, 17,  5,  5,  6,  6, 17, 17, 17, 14, 14, 14,  5,  5,  5,\n",
       "        9,  9,  9, 17, 17, 15, 15, 15,  6,  6, 17, 17,  3,  3, 12, 12, 12,\n",
       "       17, 17, 13, 13, 17, 17,  8,  8,  8, 15, 14, 14, 17, 17,  3,  3,  9,\n",
       "        9, 10, 10,  5,  5, 12, 13, 13, 10, 10, 12,  9, 12, 17, 17, 17, 17,\n",
       "       17, 17, 14,  0, 11,  3,  6,  0, 12, 17, 17, 17, 12, 12, 17,  3,  6,\n",
       "       12, 15, 15, 15, 15, 15, 12, 11,  3,  6,  2,  2,  2, 14, 14,  9,  9,\n",
       "        9,  6,  6,  6, 17, 17, 17, 12, 12, 12, 12,  0,  0,  0,  0, 13, 17,\n",
       "       17,  3,  4, 12,  4,  4, 14, 14,  3,  3,  3,  9, 17, 17, 15, 17,  9,\n",
       "        9,  9, 12,  9,  9,  0, 17, 17, 14,  1,  1, 17,  8, 14, 14, 12,  0,\n",
       "        0, 12, 10, 16,  4,  4, 17,  0,  0,  0,  1, 12, 12,  6,  6, 11, 11,\n",
       "       17, 17, 17, 11, 17, 16,  1,  1, 17, 10, 10, 12, 12, 12,  5,  5, 11,\n",
       "        3,  6, 12, 12,  3,  6, 17, 15, 15, 15, 14,  6, 14,  9,  9,  9,  6,\n",
       "        6,  6, 17, 17, 17,  1,  1, 12, 12,  0,  0,  0,  0,  0, 17, 17, 17,\n",
       "        9,  9,  9, 12, 12, 17, 17, 14, 14, 14,  0,  0,  9,  9, 12, 12, 12,\n",
       "        0,  0,  0, 12, 12, 12,  5,  5, 12, 15, 12, 12,  1, 16, 16, 16, 16,\n",
       "        5,  5,  3,  3,  3,  3,  0,  0,  9, 13, 13, 17, 17, 17, 17,  6,  6,\n",
       "        6, 14, 14, 12, 10, 10, 10,  9,  9, 12,  2, 12, 13, 15, 15, 17, 17,\n",
       "       17, 17, 10, 10, 15, 15, 15, 15, 17, 17, 12, 12,  8,  8,  8,  8,  9,\n",
       "       14,  1, 14, 11, 11, 11, 11, 11, 17, 17, 17, 17, 17,  2,  2,  2, 16,\n",
       "       16, 16, 15, 11, 16,  2,  2, 17, 10,  2, 16, 14,  9,  9,  9,  6,  6,\n",
       "        6, 17, 17, 17, 12, 12, 12, 12, 12,  0,  0,  3,  3,  3,  9,  9, 15,\n",
       "       15, 15, 15,  0,  0,  0,  0,  0,  3, 17, 17,  9,  9, 17, 17, 12,  8,\n",
       "        8, 12, 12,  8,  1, 12, 12, 14, 13, 13, 16, 16, 15, 14, 12, 12,  8,\n",
       "        2,  2,  2, 12,  5,  5, 10, 10, 13, 13, 13, 13,  9, 17, 17, 17,  9,\n",
       "        9,  1,  3, 12, 10,  9,  3,  6,  4,  0,  9, 11, 10, 11, 12, 14, 15,\n",
       "        8, 11,  3, 14, 14, 14, 16, 17,  6, 12,  8, 14, 17, 17,  1,  9, 12,\n",
       "       14,  9,  9,  9,  6,  6,  6, 17, 17, 17, 12, 12, 12, 12, 12,  1,  1,\n",
       "        9,  9,  6,  6, 17, 17, 14, 14, 12, 12, 12,  3,  3, 15, 15, 15, 14,\n",
       "       14, 10, 10, 12,  5,  5,  5, 17, 17, 17,  5,  5,  0,  0,  0,  0,  0,\n",
       "        0,  9,  9,  9,  9, 17, 10, 10, 10,  6,  6,  9,  0,  0,  1,  1, 14,\n",
       "        8,  8, 17, 17, 15, 15, 13, 13,  1,  1, 12, 12, 14, 14, 14, 14, 14,\n",
       "       14, 17, 17, 11, 11, 11, 12, 12,  3,  0,  0,  9,  9, 17, 17, 17,  0,\n",
       "        0,  9,  9, 16, 16, 16,  3,  3,  3, 14, 14,  8,  8,  8,  2,  2,  2,\n",
       "       11, 11, 11,  0,  0, 10,  5,  5,  2, 10, 10,  1,  1, 12, 12, 12,  1,\n",
       "        1,  6,  0,  1,  1,  1,  0,  0, 16, 15,  9,  7,  3,  2,  2, 10,  2,\n",
       "       17, 12,  0,  9,  9,  9,  6,  6,  6, 17, 17, 17, 12, 12, 12,  6,  6,\n",
       "        0,  0,  0,  6,  6,  4,  4,  4,  9,  9,  5,  5, 12, 14, 14, 16, 16,\n",
       "       16,  4,  4,  4,  4,  1,  1, 15, 15, 13, 13, 17, 17,  3,  3, 15, 15,\n",
       "       15, 15,  4,  5,  3, 15,  2,  2,  2, 16,  8,  8,  8,  8, 11, 11,  7,\n",
       "        7,  4,  1,  2, 15, 14,  6,  9,  9,  9,  6,  6,  6, 17, 17, 17, 12,\n",
       "       12, 12, 12, 12,  0,  0,  0,  5,  5,  6,  0,  0, 15, 15, 17, 13, 13,\n",
       "       10, 10, 17, 17,  9,  9,  9,  9, 13, 13, 12, 12,  9,  9,  9,  4, 12,\n",
       "        5,  0,  0,  8,  8, 17, 12, 12, 15, 12,  6,  3,  8, 17, 12,  8,  2,\n",
       "        2,  2,  3, 14,  9, 17, 14, 14, 14, 14, 15,  0,  0,  3, 16,  9,  1,\n",
       "       14, 16,  5, 13, 13, 15,  6,  3, 16, 16])"
      ]
     },
     "execution_count": 46,
     "metadata": {},
     "output_type": "execute_result"
    }
   ],
   "source": [
    "label_encoder = LabelEncoder()\n",
    "encoded_to_int = label_encoder.fit_transform(df['Type1'])\n",
    "encoded_to_int\n",
    "reshaped= enc\n",
    "reshaped\n",
    "#scaled_values = scaler.fit_transform(encoded_to_int)\n",
    "# scaled_data = scaler.fit_transform(unscaled_values)"
   ]
  },
  {
   "cell_type": "code",
   "execution_count": null,
   "id": "e1bdc60f-5da2-4185-9762-22c8485a0bc3",
   "metadata": {},
   "outputs": [],
   "source": []
  }
 ],
 "metadata": {
  "kernelspec": {
   "display_name": "Python 3 (ipykernel)",
   "language": "python",
   "name": "python3"
  },
  "language_info": {
   "codemirror_mode": {
    "name": "ipython",
    "version": 3
   },
   "file_extension": ".py",
   "mimetype": "text/x-python",
   "name": "python",
   "nbconvert_exporter": "python",
   "pygments_lexer": "ipython3",
   "version": "3.10.4"
  }
 },
 "nbformat": 4,
 "nbformat_minor": 5
}
