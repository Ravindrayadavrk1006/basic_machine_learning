{
 "cells": [
  {
   "cell_type": "code",
   "execution_count": 17,
   "id": "783f96a7-fa83-49b4-91ad-c2a77486c065",
   "metadata": {},
   "outputs": [],
   "source": [
    "import tensorflow as tf"
   ]
  },
  {
   "cell_type": "code",
   "execution_count": 18,
   "id": "00af55d2-0b76-46b7-967c-f36495a176f2",
   "metadata": {},
   "outputs": [],
   "source": [
    "daily_sales_numbers = [21,22,-108,31,-1,32,34,31]"
   ]
  },
  {
   "cell_type": "code",
   "execution_count": 19,
   "id": "f82de0f0-a193-4130-b8c8-a7763c69fe15",
   "metadata": {},
   "outputs": [],
   "source": [
    "tf_dataset = tf.data.Dataset.from_tensor_slices(daily_sales_numbers)"
   ]
  },
  {
   "cell_type": "code",
   "execution_count": 20,
   "id": "f38d3bde-0ec4-4d4b-86fd-4174f7966974",
   "metadata": {},
   "outputs": [
    {
     "data": {
      "text/plain": [
       "<_TensorSliceDataset element_spec=TensorSpec(shape=(), dtype=tf.int32, name=None)>"
      ]
     },
     "execution_count": 20,
     "metadata": {},
     "output_type": "execute_result"
    }
   ],
   "source": [
    "tf_dataset "
   ]
  },
  {
   "cell_type": "code",
   "execution_count": 21,
   "id": "fcf63450-31d6-4316-99e7-3458347c1fa7",
   "metadata": {},
   "outputs": [
    {
     "name": "stdout",
     "output_type": "stream",
     "text": [
      "21\n",
      "22\n",
      "-108\n",
      "31\n",
      "-1\n",
      "32\n",
      "34\n",
      "31\n"
     ]
    }
   ],
   "source": [
    "for sales in tf_dataset:\n",
    "    #tf dataset stores values as tensor we can print numpy as .numpy()\n",
    "    print(sales.numpy())"
   ]
  },
  {
   "cell_type": "code",
   "execution_count": 22,
   "id": "35e688a0-234e-442c-973d-ede419d0da23",
   "metadata": {},
   "outputs": [
    {
     "name": "stdout",
     "output_type": "stream",
     "text": [
      "tf.Tensor(21, shape=(), dtype=int32)\n",
      "tf.Tensor(22, shape=(), dtype=int32)\n",
      "tf.Tensor(-108, shape=(), dtype=int32)\n"
     ]
    }
   ],
   "source": [
    "#for taking some out of it\n",
    "for sales in tf_dataset.take(3):\n",
    "    print(sales)"
   ]
  },
  {
   "cell_type": "markdown",
   "id": "6e87fe38-5b73-42a4-8f61-62b6c5b4ec4b",
   "metadata": {},
   "source": [
    "#### filtering the data from the dataset we use filter function"
   ]
  },
  {
   "cell_type": "code",
   "execution_count": 23,
   "id": "a1e458d1-3aa8-43b3-9ae1-3ca681280aab",
   "metadata": {},
   "outputs": [
    {
     "name": "stdout",
     "output_type": "stream",
     "text": [
      "21\n",
      "22\n",
      "31\n",
      "32\n",
      "34\n",
      "31\n"
     ]
    }
   ],
   "source": [
    "tf_dataset = tf_dataset.filter(lambda x: x>0)\n",
    "for sales in tf_dataset:\n",
    "    print(sales.numpy())\n",
    "    "
   ]
  },
  {
   "cell_type": "markdown",
   "id": "7f2f5433-721f-45fc-b515-e821ad70b869",
   "metadata": {},
   "source": [
    "#### for transforming the values we use map function"
   ]
  },
  {
   "cell_type": "code",
   "execution_count": 24,
   "id": "867ecc86-0002-498d-9904-da342d35a1d2",
   "metadata": {},
   "outputs": [
    {
     "name": "stdout",
     "output_type": "stream",
     "text": [
      "1512\n",
      "1584\n",
      "2232\n",
      "2304\n",
      "2448\n",
      "2232\n"
     ]
    }
   ],
   "source": [
    "tf_dataset = tf_dataset.map(lambda x: x*72)\n",
    "for sales in tf_dataset:\n",
    "    print(sales.numpy())"
   ]
  },
  {
   "cell_type": "markdown",
   "id": "857f400c-f153-4eae-b3bf-7236a2d5c741",
   "metadata": {},
   "source": [
    "#### suffling the elements"
   ]
  },
  {
   "cell_type": "code",
   "execution_count": 32,
   "id": "29890871-690f-4b03-a816-d35322e6f1e9",
   "metadata": {},
   "outputs": [
    {
     "name": "stdout",
     "output_type": "stream",
     "text": [
      "2232\n",
      "2448\n",
      "1512\n",
      "1584\n",
      "2304\n",
      "2232\n"
     ]
    }
   ],
   "source": [
    "tf_dataset = tf_dataset.shuffle(2)\n",
    "for sales in tf_dataset:\n",
    "    print(sales.numpy())"
   ]
  },
  {
   "cell_type": "markdown",
   "id": "07e6780d-6358-413b-b9eb-be744bd885d1",
   "metadata": {},
   "source": [
    "#### batching the dataset "
   ]
  },
  {
   "cell_type": "code",
   "execution_count": 33,
   "id": "dee05b7c-751c-4b7f-9a04-1976db243016",
   "metadata": {},
   "outputs": [
    {
     "name": "stdout",
     "output_type": "stream",
     "text": [
      "[2232 2304]\n",
      "[2232 1584]\n",
      "[2448 1512]\n"
     ]
    }
   ],
   "source": [
    "for sales_batch in tf_dataset.batch(2):\n",
    "    print(sales_batch.numpy())"
   ]
  },
  {
   "cell_type": "code",
   "execution_count": 35,
   "id": "3c64f879-f349-4c17-8256-f0a1547cbe6c",
   "metadata": {},
   "outputs": [],
   "source": [
    "#we can do everything in a single line\n",
    "tf__temp_dataset = tf_dataset.filter(lambda x: x>1500).map(lambda y: y*70).shuffle(2).batch(2)"
   ]
  },
  {
   "cell_type": "code",
   "execution_count": 36,
   "id": "ce02c180-e36d-491d-83e2-dbbf31e54ddc",
   "metadata": {},
   "outputs": [
    {
     "name": "stdout",
     "output_type": "stream",
     "text": [
      "[110880 156240]\n",
      "[156240 161280]\n",
      "[105840 171360]\n"
     ]
    }
   ],
   "source": [
    "for sales in tf__temp_dataset:\n",
    "    print(sales.numpy())"
   ]
  },
  {
   "cell_type": "markdown",
   "id": "549aa819-8495-445e-b538-d5be59cbae97",
   "metadata": {},
   "source": [
    "#### working with images"
   ]
  },
  {
   "cell_type": "code",
   "execution_count": 38,
   "id": "eb37efe5-cb9b-47a9-a702-7b2638a2a4f0",
   "metadata": {},
   "outputs": [
    {
     "name": "stdout",
     "output_type": "stream",
     "text": [
      "b'dataset\\\\PlantVillage\\\\Tomato__Target_Spot\\\\002213fb-b620-4593-b9ac-6a6cc119b100___Com.G_TgS_FL 8360.JPG'\n",
      "b'dataset\\\\PlantVillage\\\\Tomato__Target_Spot\\\\003a5321-0430-42dd-a38d-30ac4563f4ba___Com.G_TgS_FL 8121.JPG'\n",
      "b'dataset\\\\PlantVillage\\\\Tomato__Target_Spot\\\\0044d10f-7062-4655-8abd-9fffc5b2f152___Com.G_TgS_FL 7908.JPG'\n",
      "b'dataset\\\\PlantVillage\\\\Tomato__Target_Spot\\\\007ec913-8cfe-43ed-b458-f041a17266ae___Com.G_TgS_FL 9844.JPG'\n",
      "b'dataset\\\\PlantVillage\\\\Tomato__Target_Spot\\\\00854623-ba28-446d-a1d5-03c0ae3f99d9___Com.G_TgS_FL 7949.JPG'\n"
     ]
    }
   ],
   "source": [
    "ds = tf.data.Dataset.list_files('dataset/PlantVillage/Tomato__Target_Spot/*', shuffle =False)\n",
    "#you should keep a folder where all kind of images are present required for training\n",
    "for file in ds.take(5):\n",
    "    print(file.numpy())"
   ]
  },
  {
   "cell_type": "code",
   "execution_count": 41,
   "id": "113a75ed-a846-4bdf-a068-6e304edde03f",
   "metadata": {},
   "outputs": [
    {
     "data": {
      "text/plain": [
       "1404"
      ]
     },
     "execution_count": 41,
     "metadata": {},
     "output_type": "execute_result"
    }
   ],
   "source": [
    "images_count = len(ds)\n",
    "images_count "
   ]
  },
  {
   "cell_type": "code",
   "execution_count": 45,
   "id": "1b7436b8-8000-4d90-b7d6-1ac6550231b8",
   "metadata": {},
   "outputs": [],
   "source": [
    "train_size = int(images_count*0.8)\n",
    "train_size\n",
    "train_ds = ds.take(train_size)\n",
    "#skip first 80% of images\n",
    "test_ds = ds.skip(train_size)"
   ]
  },
  {
   "cell_type": "code",
   "execution_count": 46,
   "id": "4d69523f-5da9-4004-b381-5c8cf66ba88d",
   "metadata": {},
   "outputs": [
    {
     "data": {
      "text/plain": [
       "281"
      ]
     },
     "execution_count": 46,
     "metadata": {},
     "output_type": "execute_result"
    }
   ],
   "source": [
    "len(test_ds)"
   ]
  },
  {
   "cell_type": "code",
   "execution_count": 47,
   "id": "eee956b2-29ef-40e9-bd2e-a33dc5a7036d",
   "metadata": {},
   "outputs": [
    {
     "data": {
      "text/plain": [
       "1123"
      ]
     },
     "execution_count": 47,
     "metadata": {},
     "output_type": "execute_result"
    }
   ],
   "source": [
    "len(train_ds)"
   ]
  },
  {
   "cell_type": "code",
   "execution_count": null,
   "id": "fa2fc214-e483-4dc5-875a-e5c48ca0b843",
   "metadata": {},
   "outputs": [],
   "source": []
  }
 ],
 "metadata": {
  "kernelspec": {
   "display_name": "Python 3 (ipykernel)",
   "language": "python",
   "name": "python3"
  },
  "language_info": {
   "codemirror_mode": {
    "name": "ipython",
    "version": 3
   },
   "file_extension": ".py",
   "mimetype": "text/x-python",
   "name": "python",
   "nbconvert_exporter": "python",
   "pygments_lexer": "ipython3",
   "version": "3.10.8"
  }
 },
 "nbformat": 4,
 "nbformat_minor": 5
}
